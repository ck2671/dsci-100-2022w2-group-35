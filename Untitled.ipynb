{
 "cells": [
  {
   "cell_type": "markdown",
   "id": "212b10a0-ac9f-42cc-804e-04b48a3440ea",
   "metadata": {},
   "source": [
    " <font size=\"20\"> Heart Disease </font>"
   ]
  },
  {
   "cell_type": "code",
   "execution_count": 40,
   "id": "762465bb-f466-4134-aac9-e408d8b079f4",
   "metadata": {},
   "outputs": [
    {
     "data": {
      "text/html": [
       "<table class=\"dataframe\">\n",
       "<caption>A data.frame: 302 × 3</caption>\n",
       "<thead>\n",
       "\t<tr><th scope=col>sex</th><th scope=col>cholesterol</th><th scope=col>heart_disease_diagnosis</th></tr>\n",
       "\t<tr><th scope=col>&lt;dbl&gt;</th><th scope=col>&lt;dbl&gt;</th><th scope=col>&lt;int&gt;</th></tr>\n",
       "</thead>\n",
       "<tbody>\n",
       "\t<tr><td>1</td><td>286</td><td>2</td></tr>\n",
       "\t<tr><td>1</td><td>229</td><td>1</td></tr>\n",
       "\t<tr><td>1</td><td>250</td><td>0</td></tr>\n",
       "\t<tr><td>⋮</td><td>⋮</td><td>⋮</td></tr>\n",
       "\t<tr><td>1</td><td>131</td><td>3</td></tr>\n",
       "\t<tr><td>0</td><td>236</td><td>1</td></tr>\n",
       "\t<tr><td>1</td><td>175</td><td>0</td></tr>\n",
       "</tbody>\n",
       "</table>\n"
      ],
      "text/latex": [
       "A data.frame: 302 × 3\n",
       "\\begin{tabular}{lll}\n",
       " sex & cholesterol & heart\\_disease\\_diagnosis\\\\\n",
       " <dbl> & <dbl> & <int>\\\\\n",
       "\\hline\n",
       "\t 1 & 286 & 2\\\\\n",
       "\t 1 & 229 & 1\\\\\n",
       "\t 1 & 250 & 0\\\\\n",
       "\t ⋮ & ⋮ & ⋮\\\\\n",
       "\t 1 & 131 & 3\\\\\n",
       "\t 0 & 236 & 1\\\\\n",
       "\t 1 & 175 & 0\\\\\n",
       "\\end{tabular}\n"
      ],
      "text/markdown": [
       "\n",
       "A data.frame: 302 × 3\n",
       "\n",
       "| sex &lt;dbl&gt; | cholesterol &lt;dbl&gt; | heart_disease_diagnosis &lt;int&gt; |\n",
       "|---|---|---|\n",
       "| 1 | 286 | 2 |\n",
       "| 1 | 229 | 1 |\n",
       "| 1 | 250 | 0 |\n",
       "| ⋮ | ⋮ | ⋮ |\n",
       "| 1 | 131 | 3 |\n",
       "| 0 | 236 | 1 |\n",
       "| 1 | 175 | 0 |\n",
       "\n"
      ],
      "text/plain": [
       "    sex cholesterol heart_disease_diagnosis\n",
       "1   1   286         2                      \n",
       "2   1   229         1                      \n",
       "3   1   250         0                      \n",
       "⋮   ⋮   ⋮           ⋮                      \n",
       "300 1   131         3                      \n",
       "301 0   236         1                      \n",
       "302 1   175         0                      "
      ]
     },
     "metadata": {},
     "output_type": "display_data"
    },
    {
     "data": {
      "text/html": [
       "<table class=\"dataframe\">\n",
       "<caption>A tibble: 2 × 2</caption>\n",
       "<thead>\n",
       "\t<tr><th scope=col>sex</th><th scope=col>cholesterol</th></tr>\n",
       "\t<tr><th scope=col>&lt;dbl&gt;</th><th scope=col>&lt;dbl&gt;</th></tr>\n",
       "</thead>\n",
       "<tbody>\n",
       "\t<tr><td>0</td><td>261.7526</td></tr>\n",
       "\t<tr><td>1</td><td>239.6341</td></tr>\n",
       "</tbody>\n",
       "</table>\n"
      ],
      "text/latex": [
       "A tibble: 2 × 2\n",
       "\\begin{tabular}{ll}\n",
       " sex & cholesterol\\\\\n",
       " <dbl> & <dbl>\\\\\n",
       "\\hline\n",
       "\t 0 & 261.7526\\\\\n",
       "\t 1 & 239.6341\\\\\n",
       "\\end{tabular}\n"
      ],
      "text/markdown": [
       "\n",
       "A tibble: 2 × 2\n",
       "\n",
       "| sex &lt;dbl&gt; | cholesterol &lt;dbl&gt; |\n",
       "|---|---|\n",
       "| 0 | 261.7526 |\n",
       "| 1 | 239.6341 |\n",
       "\n"
      ],
      "text/plain": [
       "  sex cholesterol\n",
       "1 0   261.7526   \n",
       "2 1   239.6341   "
      ]
     },
     "metadata": {},
     "output_type": "display_data"
    }
   ],
   "source": [
    "library(tidyverse)\n",
    "library(repr)\n",
    "library(tidymodels)\n",
    "\n",
    "url <- \"https://archive.ics.uci.edu/ml/machine-learning-databases/heart-disease/processed.cleveland.data\"\n",
    "heart_data <- read.csv(file = url) |>\n",
    "rename(age=X63.0,\n",
    "       sex=X1.0,\n",
    "       chest_pain=X1.0.1,\n",
    "       resting_blood_pressure=X145.0,\n",
    "       cholesterol=X233.0,\n",
    "       fasting_blood_sugar=X1.0.2,\n",
    "       resting_electrocardiographic_results=X2.0,\n",
    "       max_heart_rate=X150.0,\n",
    "       exercise_induced_angina=X0.0,\n",
    "       S_depression_induced=X2.3,\n",
    "       slope_of_peak_exercise=X3.0,\n",
    "       major_vessels=X0.0.1,\n",
    "       thal=X6.0,\n",
    "       heart_disease_diagnosis=X0) |>\n",
    "    \n",
    "    select(sex, cholesterol, heart_disease_diagnosis)\n",
    "\n",
    "heart_data\n",
    "\n",
    "#The table below summarizes the mean cholesterol level for males(1) and females(0).\n",
    "group_by(heart_data, sex) |>\n",
    "    summarize(cholesterol=mean(cholesterol, na.rm=TRUE))"
   ]
  },
  {
   "cell_type": "code",
   "execution_count": null,
   "id": "a896c40b-2156-424a-9edb-cd8a8b5f9b26",
   "metadata": {},
   "outputs": [],
   "source": []
  }
 ],
 "metadata": {
  "kernelspec": {
   "display_name": "R",
   "language": "R",
   "name": "ir"
  },
  "language_info": {
   "codemirror_mode": "r",
   "file_extension": ".r",
   "mimetype": "text/x-r-source",
   "name": "R",
   "pygments_lexer": "r",
   "version": "4.1.3"
  }
 },
 "nbformat": 4,
 "nbformat_minor": 5
}
