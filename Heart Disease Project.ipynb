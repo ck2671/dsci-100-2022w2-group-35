{
 "cells": [
  {
   "cell_type": "markdown",
   "id": "212b10a0-ac9f-42cc-804e-04b48a3440ea",
   "metadata": {},
   "source": [
    "<font size=\"20\"> Prediction of Heart Disease </font>"
   ]
  },
  {
   "cell_type": "markdown",
   "id": "e9606af0-c9ee-499e-bd5e-00ea0f02faa0",
   "metadata": {},
   "source": [
    "<font size=\"4\"> Group: Christina Z, Abeer I, Adiba C, Renee C. </font>"
   ]
  },
  {
   "cell_type": "markdown",
   "id": "ef6eaa96-a1b7-42c2-b058-1807d2bb50f6",
   "metadata": {},
   "source": [
    "<font size=\"5\"> Introduction </font>\n",
    "\n",
    "\n"
   ]
  },
  {
   "cell_type": "markdown",
   "id": "e847d842-efe9-4e6b-bf79-308f8378b2f7",
   "metadata": {},
   "source": [
    "   Heart disease has been the leading cause of death in many countries (Namara et. al, 2022). High blood pressure is one of the main risk factors for heart disease among various others. With high blood pressure, the heart arteries become damaged by elasticity loss, which decreases the flow of blood to heart and leads to a heart disease (Fuchs et.al, 2020). Sex difference is also found to be a risk factor since scientists had proved that the associations between high blood pressure and heart disease were not equivalent in women and men (Colafella et.al, 2018). From this knowledge, we came up with a predictive question: what is the likelihood of developing heart disease based on blood pressure and sex? \n",
    "\n",
    "   We are going to use classification with K-nearest neighbors to answer our predictive question. The dataset we used contains 14 patient attributes which are relevant to the heart disease: age, sex, chest pain, resting blood pressure, …, and heart disease diagnosis. We will use sex, blood pressure and heart disease diagnosis to answer this question. \n"
   ]
  },
  {
   "cell_type": "markdown",
   "id": "dcee1e7a-d00b-4a71-983b-ddf9c064f4d8",
   "metadata": {},
   "source": [
    "<font size=\"5\"> Preliminary Exploratory Data Analysis </font>"
   ]
  },
  {
   "cell_type": "markdown",
   "id": "2b0f6e30-6f95-4fb8-9c1e-386784bf5d61",
   "metadata": {},
   "source": [
    "For the first step, we will  install the packages containing the functions needed to perform our data analysis. Next, we loaded in the data and renamed the columns into a readable form."
   ]
  },
  {
   "cell_type": "code",
   "execution_count": null,
   "id": "762465bb-f466-4134-aac9-e408d8b079f4",
   "metadata": {},
   "outputs": [],
   "source": [
    "install.packages(\"tidymodels\")\n",
    "library(tidyverse)\n",
    "library(repr)\n",
    "library(tidymodels)\n",
    "options(repr.matrix.max.rows = 6)\n",
    "\n",
    "\n",
    "url <- \"https://archive.ics.uci.edu/ml/machine-learning-databases/heart-disease/processed.cleveland.data\"\n",
    "heart_data <- read.csv(file = url) |>\n",
    "rename(age=X63.0,\n",
    "       sex=X1.0,\n",
    "       chest_pain=X1.0.1,\n",
    "       resting_blood_pressure=X145.0,\n",
    "       cholesterol=X233.0,\n",
    "       fasting_blood_sugar=X1.0.2,\n",
    "       resting_electrocardiographic_results=X2.0,\n",
    "       max_heart_rate=X150.0,\n",
    "       exercise_induced_angina=X0.0,\n",
    "       S_depression_induced=X2.3,\n",
    "       slope_of_peak_exercise=X3.0,\n",
    "       major_vessels=X0.0.1,\n",
    "       thal=X6.0,\n",
    "       heart_disease_diagnosis=X0)\n",
    "heart_data \n"
   ]
  },
  {
   "cell_type": "markdown",
   "id": "677a7b02-991c-4dd6-8e21-76897633ba4e",
   "metadata": {},
   "source": [
    "Next, we split our data into two parts: training and testing data. We used prop=0.75 in order to have 75% as training data and 25% as testing data. "
   ]
  },
  {
   "cell_type": "code",
   "execution_count": null,
   "id": "23b06017-454d-4c5f-8e8f-67b6bb9bdcb8",
   "metadata": {},
   "outputs": [],
   "source": [
    "set.seed(20)\n",
    "heart_split <- initial_split(heart_data, prop=0.75, strata=resting_blood_pressure)\n",
    "    heart_train <- training(heart_split)\n",
    "    heart_test <- testing(heart_split)\n"
   ]
  },
  {
   "cell_type": "markdown",
   "id": "95b2e15a-2f7c-4ede-ae16-6761692d1e0a",
   "metadata": {},
   "source": [
    "Since we have decided on focusing on the factors sex and resting blood pressure to predict heart disease, we therefore selected these two columns in the code below to further carry out the preliminary data analysis. "
   ]
  },
  {
   "cell_type": "code",
   "execution_count": null,
   "id": "b58ec667-362f-49cb-bc00-842fcee6d8e4",
   "metadata": {},
   "outputs": [],
   "source": [
    "heart_train_selected <- select(heart_train, sex, resting_blood_pressure, heart_disease_diagnosis) |>\n",
    "                        arrange(sex, resting_blood_pressure) \n",
    "heart_train_selected"
   ]
  },
  {
   "cell_type": "markdown",
   "id": "569263f0-e8f4-411c-a349-f7f3e06c15de",
   "metadata": {},
   "source": [
    "Table 1:\n",
    "This table shows the number of rows with missing data (NA's). As seen below, there are zero rows with missing data. We further confirm this by finding the total number of rows in the heart train dataset and the number of rows after removing for any missing rows. We find that both report 224 rows. This confirms that there are no rows with missing data in this dataset. "
   ]
  },
  {
   "cell_type": "code",
   "execution_count": null,
   "id": "ff62ccf4-a940-4aff-b03a-d288068cf583",
   "metadata": {},
   "outputs": [],
   "source": [
    "heart_train %>%\n",
    "map_df(is.na) %>%\n",
    "map_df(sum)"
   ]
  },
  {
   "cell_type": "code",
   "execution_count": null,
   "id": "e72d7339-39ec-46b3-b7f2-87c834618099",
   "metadata": {},
   "outputs": [],
   "source": [
    "nrow(heart_train)\n",
    "nrow(heart_train %>% na.omit())"
   ]
  },
  {
   "cell_type": "markdown",
   "id": "077f6c64-ac04-49ef-a580-0c87d5aa6696",
   "metadata": {},
   "source": [
    "Table 2:\n",
    "This table reports the number of observations for each class. It is found that there is the greatest amount of observations \n",
    "found for the heart disease diagnosed as 0 and the least amount of observations for the heart disease diagnosed as 4."
   ]
  },
  {
   "cell_type": "code",
   "execution_count": null,
   "id": "3c06f166-f529-48ef-9aa5-80aca05f9f08",
   "metadata": {},
   "outputs": [],
   "source": [
    "count <- group_by(heart_train_selected, heart_disease_diagnosis) |>\n",
    "            summarize(total=n())\n",
    "count"
   ]
  },
  {
   "cell_type": "code",
   "execution_count": null,
   "id": "a896c40b-2156-424a-9edb-cd8a8b5f9b26",
   "metadata": {},
   "outputs": [],
   "source": [
    "#Table 3:\n",
    "#The table below reports the average heart disease diagnosis (on a scale of 0-4) for males(1) and females(0).\n",
    "#It is found that the heart disease diagnosis level is slightly greater for males (~1.03) compared to females (~0.51).\n",
    "sex_vs_heart_disease <- group_by(heart_train_selected, sex) |>\n",
    "                        summarize(heart_disease_diagnosis=mean(heart_disease_diagnosis, na.rm=TRUE))\n",
    "sex_vs_heart_disease"
   ]
  },
  {
   "cell_type": "code",
   "execution_count": null,
   "id": "33eed483-5f36-40e7-9435-aa820ea7e855",
   "metadata": {},
   "outputs": [],
   "source": [
    "#Table 4:\n",
    "#The table below reports the average resting blood pressure (mm Hg) for each heart disease diagnosis level (0-4). \n",
    "#There is generally a slight increase in resting blood pressure as the heart disease diagnosis level increases. \n",
    "heart_disease_vs_resting_blood_pressure <- group_by(heart_train_selected, heart_disease_diagnosis) |>\n",
    "                                summarize(resting_blood_pressure=mean(resting_blood_pressure, na.rm=TRUE))\n",
    "heart_disease_vs_resting_blood_pressure"
   ]
  },
  {
   "cell_type": "code",
   "execution_count": null,
   "id": "0a931fc7-9afe-4ef8-97b3-81ef0150ae27",
   "metadata": {},
   "outputs": [],
   "source": [
    "#Graph 1:\n",
    "#Plot of heart disease diagnosis on a scale of 0-4 versus resting blood pressure (mm Hg) in men and women. \n",
    "#The graph shows that heart disease diagnosis level has a weak positive correlation with resting blood pressure for \n",
    "#both male (1) and female (0). \n",
    "#An increase in the heart disease diagnosis level correlates to a slight increase in resting blood pressure amount.\n",
    "#There is a stronger relationship between heart disease diagnosis and resting blood pressure for males, but also  \n",
    "#more outliers in the data. \n",
    "plot_heart_disease_vs_resting_blood_pressure <- heart_train_selected |>\n",
    "                            mutate(heart_disease_diagnosis = as.factor(heart_disease_diagnosis)) |>\n",
    "                            mutate(sex = as.factor(sex)) |>\n",
    "                            ggplot(aes(x=heart_disease_diagnosis, y=resting_blood_pressure, fill=sex)) +\n",
    "                                 geom_boxplot() +\n",
    "                                 labs(x=\"Heart Disease Diagnosis (Scale of 0-4)\", y=\"Resting Blood Pressure (mm Hg)\", fill= \"Sex (0=Females, 1=Males)\", title=\"Heart Disease Diagnosis vs. Resting Blood Pressure\", )+\n",
    "                            facet_grid(sex~.) \n",
    "plot_heart_disease_vs_resting_blood_pressure"
   ]
  },
  {
   "cell_type": "markdown",
   "id": "d834c66d-0caa-421c-918c-c99cbaa11f31",
   "metadata": {},
   "source": [
    "For our project, we are more interested in finding out whether or not heart disease is present in an individual, rather than the level of heart disease severity (0, 1, 2, 3, 4). Therefore, we grouped all heart disease diagnosis levels of 0 into one group (represented by 0) and we grouped all heart disease diagnosis levels of 1, 2, 3, and 4, into one group into one group (represented by 1). The group represented by 0 indicates no heart disease present, while the group represented by 1 indicates the presence of heart disease. This new column will be titled new_heart_binary."
   ]
  },
  {
   "cell_type": "code",
   "execution_count": null,
   "id": "5c95d15a-a46e-42f3-9ba9-1f261141b76f",
   "metadata": {
    "tags": []
   },
   "outputs": [],
   "source": [
    "heart_train_grouped <- heart_train |>\n",
    "                        mutate(new_heart_binary=ifelse(heart_disease_diagnosis %in% c(1, 2, 3, 4), 1, 0)) |>\n",
    "                        mutate(new_heart_binary = as.factor(new_heart_binary)) "
   ]
  },
  {
   "cell_type": "code",
   "execution_count": null,
   "id": "c39190d1-ac88-48dc-881d-846fc0b4e2db",
   "metadata": {},
   "outputs": [],
   "source": [
    "#Graph 2: \n",
    "#Plot of the presence of heart disease (with 0 indicating no heart disease and 1 indicating the presence of heart \n",
    "#disease) versus the resting blood pressure level (in mm Hg). From this graph, we can more easily see a correlation.\n",
    "#The presence of heart disease is correlated with a higher median resting blood pressure level (~6 mm Hg increase) \n",
    "#compared to no presence of heart disease for both male (1) and female (0). Males (1) have generally a lower \n",
    "#resting blood pressure as compared to females (0). \n",
    "\n",
    "plot_heart_disease_vs_resting_blood_pressure <- heart_train_grouped |>\n",
    "                            mutate(sex = as.factor(sex)) |>\n",
    "                            ggplot(aes(x=new_heart_binary, y=age, fill=sex)) +\n",
    "                                 geom_boxplot() +\n",
    "                                 labs(x=\"Presence of Heart Disease (0=No, 1=Yes)\", y=\"Resting Blood Pressure (mm Hg)\", fill=\"Sex (0=Females, 1=Males)\", title=\"Presence of Heart Disease vs. Resting Blood Pressure\", )+\n",
    "                            facet_grid(sex~.)\n",
    "plot_heart_disease_vs_resting_blood_pressure"
   ]
  },
  {
   "cell_type": "markdown",
   "id": "be6b84b2-9be4-45f7-ad33-7956982abc48",
   "metadata": {},
   "source": [
    "Even though we usually would not touch the testing data, in this instance we need to perform this grouping for both the training and testing data to ensure that the heart diagnosis is grouped in the same manner for both. If we do not do this, then when we try and test the model, the predictions will not be accurate since it would be on a different scale."
   ]
  },
  {
   "cell_type": "code",
   "execution_count": null,
   "id": "8696d80c-67c9-42bf-9961-fbc782f89dd6",
   "metadata": {
    "tags": []
   },
   "outputs": [],
   "source": [
    "heart_test_grouped <- heart_test |>\n",
    "                        mutate(new_heart_binary=ifelse(heart_disease_diagnosis %in% c(1, 2, 3, 4), 1, 0)) |>\n",
    "                        mutate(new_heart_binary = as.factor(new_heart_binary)) "
   ]
  },
  {
   "cell_type": "markdown",
   "id": "7e1d21e0-a004-416b-aab1-846812e67242",
   "metadata": {},
   "source": [
    "<font size=\"5\"> Methods </font>"
   ]
  },
  {
   "cell_type": "markdown",
   "id": "3adfbde2-75aa-46a5-95a9-ecde5d252a4a",
   "metadata": {},
   "source": [
    "We will create a summary table to predict whether heart disease diagnosis is affected by the factors. The original data set is quite tidy but not all the data is relevant. Therefore we use select() to create a table with relevant data(blood pressure, sex and heart disease diagnosis). Next, we will create a visualisation plot. We will make a box-plot and use facet_grid() to create visualisation plots that show how the factors interact for each gender on top of each other. \n",
    "\n",
    "To create the model we will split our dataset into training and testing dataset, setting aside the test dataset until the end to test our model. The training dataset will be further broken up into validation and training set 5 times (5-fold cross validation). Then, we will create a plot of accuracy versus k value to ensure we pick the k-value with the highest accuracy to ensure our model is as accurate as possible. We will use k-nearest-neighbour and use the two factors as the predictors and predict whether heart disease is present or not.\n"
   ]
  },
  {
   "cell_type": "code",
   "execution_count": null,
   "id": "db045eb3-bc34-46c3-a6c1-39a80dc22cb7",
   "metadata": {
    "tags": []
   },
   "outputs": [],
   "source": [
    "set.seed(20)\n",
    "#set seed to ensure we are using the same randomised numbers\n",
    "\n",
    "heart_vfold <- vfold_cv(heart_train_grouped, v = 5, strata = new_heart_binary)\n",
    "\n",
    "heart_recipe <- recipe(new_heart_binary ~ resting_blood_pressure + sex, data = heart_train_grouped) |>\n",
    "  step_scale(all_predictors()) |>\n",
    "  step_center(all_predictors())\n",
    "\n",
    "knn_spec <- nearest_neighbor(weight_func = \"rectangular\", neighbors = tune()) |>\n",
    "  set_engine(\"kknn\") |>\n",
    "  set_mode(\"classification\")\n",
    "\n",
    "k_vals <- tibble(neighbors=seq(from=1, to=25, by=1))\n",
    "\n",
    "knn_results <- workflow() |>\n",
    "  add_recipe(heart_recipe) |>\n",
    "  add_model(knn_spec) |>\n",
    "  tune_grid(resamples = heart_vfold, grid = k_vals) |>\n",
    "  collect_metrics()\n",
    "knn_results\n",
    "\n",
    "accuracies <- knn_results |>\n",
    "  filter(.metric == \"accuracy\")\n",
    "\n",
    "cross_val_plot <- accuracies |> \n",
    "    ggplot(aes(x = neighbors, y = mean)) +\n",
    "    geom_point() +\n",
    "    geom_line() +\n",
    "    labs(x = \"Neighbors\", y = \"Accuracy Estimate\") +\n",
    "    ggtitle(\"Accuracy of different K values(neighbours))\") +\n",
    "    theme(text = element_text(size = 20))\n",
    "cross_val_plot\n"
   ]
  },
  {
   "cell_type": "markdown",
   "id": "4e038fda-baeb-4645-902e-ce2c39a7e4d7",
   "metadata": {},
   "source": [
    "After creating the k neighbors vs accuracy plot, we chose our neighbours by locating a point which both had a high accuracy and was stable, i.e the points before and after it didn’t have huge differences in accuracy. This value ended up being 17, which we then put into our model.\n",
    "\n",
    "We started off by creating the new knn spec based off of our chosen k value and setting the model to classification as that is what our model is doing. Then we create a new fit with the knn_best_spec, but still using the same recipe as created previously as the k value does not affect the recipe. \n",
    "\n",
    "Once this is complete, we create the predictions which uses the heart_fit, but the models uses the testing data to test the model on unseen data.\n",
    "\n",
    "Compare the accuracy of predictions to the true values in the test set\n",
    "\n",
    "Compare the predictions to the true values in a confusion matrix"
   ]
  },
  {
   "cell_type": "code",
   "execution_count": null,
   "id": "bdc7f3be-e6e6-4baa-9552-4e3b5dc568e1",
   "metadata": {
    "tags": []
   },
   "outputs": [],
   "source": [
    "knn_best_spec <- nearest_neighbor(weight_func = \"rectangular\", neighbors = 17) |>\n",
    "  set_engine(\"kknn\") |>\n",
    "  set_mode(\"classification\")\n",
    "\n",
    "heart_fit <- workflow() |>\n",
    "  add_recipe(heart_recipe) |>\n",
    "  add_model(knn_best_spec) |>\n",
    "  fit(data = heart_train_grouped)\n",
    "\n",
    "heart_predictions <- predict(heart_fit, heart_test_grouped) |> \n",
    "    bind_cols(heart_test_grouped)\n",
    "\n",
    "heart_acc <- heart_predictions |> \n",
    "    metrics(truth = new_heart_binary, estimate = .pred_class) |> \n",
    "    select(.metric, .estimate) |> \n",
    "    head(1)\n",
    "heart_acc\n",
    "\n",
    "heart_cm <- heart_predictions |> \n",
    "    conf_mat(truth = new_heart_binary, estimate = .pred_class)\n",
    "heart_cm"
   ]
  },
  {
   "cell_type": "markdown",
   "id": "03954f4f-7e19-4db2-9bcc-f69203324cf3",
   "metadata": {},
   "source": [
    "To create the visualisation, we needed a way to display how accurate our model is and so we create a new column using the mutate function called is_accurate. This column is the result of making the predicted class equal to the actual values to see whether they match - TRUE - or if they don’t  - FALSE. Then we used this new column to make a box plot to see how accurate the model is based on our predictors. Although this box plot wasn’t very helpful to evaluate our models analysis, therefore we decided to see the model’s accuracy based on each of the predictors separately. The plot was created using ggplot, with geom_boxplot as a box plot was one of the best way to display the data since sex is a binary value. Also we used used facet_grid to create two separate visualisations one on top of each other, divided by sex to allow for better analysis. "
   ]
  },
  {
   "cell_type": "code",
   "execution_count": null,
   "id": "b1219d60-2904-41af-a0ce-abad477274db",
   "metadata": {
    "tags": []
   },
   "outputs": [],
   "source": [
    "#Figure 1: Predictions of False and True and the corresponding resting blood pressure in males (1) and females (0).\n",
    "#This figure shows that our data is unbiased since the the median value (horizontal line) for both True and False predictions \n",
    "#are generally the same for both males (1) and females (0). \n",
    "\n",
    "options(repr.plot.width = 10, repr.plot.height = 8)\n",
    "\n",
    "new_heart_predictions <- heart_predictions |>\n",
    "        mutate(is_accurate = .pred_class == new_heart_binary) \n",
    "        \n",
    "heart_plot_2 <- new_heart_predictions |>\n",
    "        ggplot()+\n",
    "        geom_boxplot(aes(x = is_accurate, y = resting_blood_pressure))+\n",
    "        facet_grid(as.factor(sex)~.) +\n",
    "        labs(x=\"Predictions of False and True\", y=\"Resting Blood Pressure\") +\n",
    "        ggtitle(\"Predictions of False and True and the corresponding resting blood pressure in males (1) and females (0).\")\n",
    "heart_plot_2\n"
   ]
  },
  {
   "cell_type": "code",
   "execution_count": null,
   "id": "dcffc811-f23e-4e70-856e-05a7bde21938",
   "metadata": {
    "tags": []
   },
   "outputs": [],
   "source": [
    "#Figure 2: Proportion of correct classifications between male and females.\n",
    "#This bar graph shows that there is a higher accuracy for females (~85%) as compared to males (~55%).\n",
    "Count <- new_heart_predictions |>\n",
    "        group_by(sex, is_accurate) |>\n",
    "        summarize(count=n()) |>\n",
    "        mutate(prop = count/sum(count))\n",
    "\n",
    "accuracy_sex <- Count |>\n",
    "            filter(is_accurate == TRUE) |>\n",
    "            ggplot()+\n",
    "            geom_bar(aes(x = as.factor(sex), y = prop), stat = \"identity\") +\n",
    "            labs(x=\"Sex (0=Females, 1-Males)\", y=\"Proportion of Correct Classifications\") +\n",
    "            ggtitle(\"Proportion of Correct Classifications\")\n",
    "accuracy_sex\n"
   ]
  },
  {
   "cell_type": "code",
   "execution_count": null,
   "id": "a6b15663-57ea-49fc-829b-e4b68cf85277",
   "metadata": {
    "tags": []
   },
   "outputs": [],
   "source": [
    "#Higher accuracy for very high blood pressure\n",
    "Count <- new_heart_predictions |>\n",
    "        mutate(resting_blood_pressure_grouped = ifelse(resting_blood_pressure <= 120.5, \"Low (Less than 120.5)\", ifelse((resting_blood_pressure >120.5 & resting_blood_pressure <=147), \"Medium (Between 120.5 and 147)\", ifelse(resting_blood_pressure >= 173.5, \"Extra High (Greater than 173.5)\", \"High (Between 147.5 and 173.5)\")))) |>\n",
    "        mutate(resting_blood_pressure_grouped = as.factor(resting_blood_pressure_grouped)) |>\n",
    "        group_by(resting_blood_pressure_grouped, is_accurate) |>\n",
    "        summarize(count=n()) |>\n",
    "        mutate(prop = count/sum(count))\n",
    "\n",
    "accuracy_resting_blood_pressure <- Count |>\n",
    "        filter(is_accurate == TRUE) |>\n",
    "        ggplot()+\n",
    "        geom_bar(aes(x = resting_blood_pressure_grouped, y = prop), stat = \"identity\") +\n",
    "        labs(x=\"Resting Blood Pressure (mm/H)\", y= \"Proportion of Correct Classifications\") +\n",
    "        ggtitle(\"The accuracy of our model in determining Heart disease diagnosis of different blood pressures\")\n",
    "\n",
    "accuracy_resting_blood_pressure"
   ]
  },
  {
   "cell_type": "markdown",
   "id": "716ee4b4-d34f-4ce2-86c3-6faec7039690",
   "metadata": {},
   "source": [
    "<font size=\"5\"> Expected outcomes and significance </font>"
   ]
  },
  {
   "cell_type": "markdown",
   "id": "9c38024e-7320-4b58-857d-187d2e8f6622",
   "metadata": {},
   "source": [
    "Colafella et.al had claimed that the associations between high blood pressure and heart disease outcomes were not equivalent in women and men. However, a clear relationship with sufficient data was not presented. Thus, we expect to find a relationship between blood pressure, sex and heart disease in order to better predict the chance of getting heart disease. \n",
    "  \n",
    "These findings could be impactful in providing more of a visual and explanatory answer to the relationship between sex with blood pressure & heart disease diagnoses; a strong relationship would allow a more accurate model that can help people predict their chance of getting heart disease. As well, if the findings supplement Colafella et.al’s claim, more research can be conducted to understand the causes for the difference. \n",
    "        \n",
    "Furthermore, it could lead to the question of helping people to get their results to the optimal healthy level, which will help lower their chances of getting CHD or at least subvert some of the symptoms to a more manageable level. That way, more people can create a health plan that helps themselves in terms of their health.\n"
   ]
  },
  {
   "cell_type": "markdown",
   "id": "a1be8dfd-0bfd-4aed-b15a-5969dbe213dd",
   "metadata": {},
   "source": [
    "<font size=\"5\"> References </font>"
   ]
  },
  {
   "cell_type": "markdown",
   "id": "f02988ce-e6b4-4b74-b8d9-37f49dcd36cb",
   "metadata": {},
   "source": [
    "Fuchs, F. D. & Whelton, P. K.(2020). High blood pressure and cardiovascular disease. Hypertension 75(2). 285–292.doi.org/10.1161/HYPERTENSIONAHA.119.14240.\n",
    "\n",
    "Namara, K., Alzubaidi, H., Jackson, JK. (2019). Cardiovascular disease as a leading cause of death: how are pharmacists getting involved?. Integr Pham Res Pract. 8.1-11. doi: 10.2147/IPRP.S133088. \n",
    "\n",
    "Colafella, KMM., Denton, KM. (2017). Sex-specific differences in hypertension and associated cardiovascular disease. Nat Rev Nephrol. 14. 185-201.  doi: 10.1038/nrneph.2017.189."
   ]
  }
 ],
 "metadata": {
  "kernelspec": {
   "display_name": "R",
   "language": "R",
   "name": "ir"
  },
  "language_info": {
   "codemirror_mode": "r",
   "file_extension": ".r",
   "mimetype": "text/x-r-source",
   "name": "R",
   "pygments_lexer": "r",
   "version": "4.2.3"
  }
 },
 "nbformat": 4,
 "nbformat_minor": 5
}
