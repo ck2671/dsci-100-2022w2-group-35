{
 "cells": [
  {
   "cell_type": "markdown",
   "id": "212b10a0-ac9f-42cc-804e-04b48a3440ea",
   "metadata": {},
   "source": [
    " <font size=\"20\"> Heart Disease </font>"
   ]
  },
  {
   "cell_type": "markdown",
   "id": "ef6eaa96-a1b7-42c2-b058-1807d2bb50f6",
   "metadata": {},
   "source": [
    "INTRODUCTION:\n",
    "\n",
    "\n",
    "\n"
   ]
  },
  {
   "cell_type": "markdown",
   "id": "dcee1e7a-d00b-4a71-983b-ddf9c064f4d8",
   "metadata": {},
   "source": [
    "PRELIMINARY EXPLORATORY DATA ANALYSIS:"
   ]
  },
  {
   "cell_type": "code",
   "execution_count": 66,
   "id": "762465bb-f466-4134-aac9-e408d8b079f4",
   "metadata": {},
   "outputs": [
    {
     "data": {
      "text/html": [
       "<table class=\"dataframe\">\n",
       "<caption>A data.frame: 302 × 14</caption>\n",
       "<thead>\n",
       "\t<tr><th scope=col>age</th><th scope=col>sex</th><th scope=col>chest_pain</th><th scope=col>resting_blood_pressure</th><th scope=col>cholesterol</th><th scope=col>fasting_blood_sugar</th><th scope=col>resting_electrocardiographic_results</th><th scope=col>max_heart_rate</th><th scope=col>exercise_induced_angina</th><th scope=col>S_depression_induced</th><th scope=col>slope_of_peak_exercise</th><th scope=col>major_vessels</th><th scope=col>thal</th><th scope=col>heart_disease_diagnosis</th></tr>\n",
       "\t<tr><th scope=col>&lt;dbl&gt;</th><th scope=col>&lt;dbl&gt;</th><th scope=col>&lt;dbl&gt;</th><th scope=col>&lt;dbl&gt;</th><th scope=col>&lt;dbl&gt;</th><th scope=col>&lt;dbl&gt;</th><th scope=col>&lt;dbl&gt;</th><th scope=col>&lt;dbl&gt;</th><th scope=col>&lt;dbl&gt;</th><th scope=col>&lt;dbl&gt;</th><th scope=col>&lt;dbl&gt;</th><th scope=col>&lt;chr&gt;</th><th scope=col>&lt;chr&gt;</th><th scope=col>&lt;int&gt;</th></tr>\n",
       "</thead>\n",
       "<tbody>\n",
       "\t<tr><td>67</td><td>1</td><td>4</td><td>160</td><td>286</td><td>0</td><td>2</td><td>108</td><td>1</td><td>1.5</td><td>2</td><td>3.0</td><td>3.0</td><td>2</td></tr>\n",
       "\t<tr><td>67</td><td>1</td><td>4</td><td>120</td><td>229</td><td>0</td><td>2</td><td>129</td><td>1</td><td>2.6</td><td>2</td><td>2.0</td><td>7.0</td><td>1</td></tr>\n",
       "\t<tr><td>37</td><td>1</td><td>3</td><td>130</td><td>250</td><td>0</td><td>0</td><td>187</td><td>0</td><td>3.5</td><td>3</td><td>0.0</td><td>3.0</td><td>0</td></tr>\n",
       "\t<tr><td>⋮</td><td>⋮</td><td>⋮</td><td>⋮</td><td>⋮</td><td>⋮</td><td>⋮</td><td>⋮</td><td>⋮</td><td>⋮</td><td>⋮</td><td>⋮</td><td>⋮</td><td>⋮</td></tr>\n",
       "\t<tr><td>57</td><td>1</td><td>4</td><td>130</td><td>131</td><td>0</td><td>0</td><td>115</td><td>1</td><td>1.2</td><td>2</td><td>1.0</td><td>7.0</td><td>3</td></tr>\n",
       "\t<tr><td>57</td><td>0</td><td>2</td><td>130</td><td>236</td><td>0</td><td>2</td><td>174</td><td>0</td><td>0.0</td><td>2</td><td>1.0</td><td>3.0</td><td>1</td></tr>\n",
       "\t<tr><td>38</td><td>1</td><td>3</td><td>138</td><td>175</td><td>0</td><td>0</td><td>173</td><td>0</td><td>0.0</td><td>1</td><td>?  </td><td>3.0</td><td>0</td></tr>\n",
       "</tbody>\n",
       "</table>\n"
      ],
      "text/latex": [
       "A data.frame: 302 × 14\n",
       "\\begin{tabular}{llllllllllllll}\n",
       " age & sex & chest\\_pain & resting\\_blood\\_pressure & cholesterol & fasting\\_blood\\_sugar & resting\\_electrocardiographic\\_results & max\\_heart\\_rate & exercise\\_induced\\_angina & S\\_depression\\_induced & slope\\_of\\_peak\\_exercise & major\\_vessels & thal & heart\\_disease\\_diagnosis\\\\\n",
       " <dbl> & <dbl> & <dbl> & <dbl> & <dbl> & <dbl> & <dbl> & <dbl> & <dbl> & <dbl> & <dbl> & <chr> & <chr> & <int>\\\\\n",
       "\\hline\n",
       "\t 67 & 1 & 4 & 160 & 286 & 0 & 2 & 108 & 1 & 1.5 & 2 & 3.0 & 3.0 & 2\\\\\n",
       "\t 67 & 1 & 4 & 120 & 229 & 0 & 2 & 129 & 1 & 2.6 & 2 & 2.0 & 7.0 & 1\\\\\n",
       "\t 37 & 1 & 3 & 130 & 250 & 0 & 0 & 187 & 0 & 3.5 & 3 & 0.0 & 3.0 & 0\\\\\n",
       "\t ⋮ & ⋮ & ⋮ & ⋮ & ⋮ & ⋮ & ⋮ & ⋮ & ⋮ & ⋮ & ⋮ & ⋮ & ⋮ & ⋮\\\\\n",
       "\t 57 & 1 & 4 & 130 & 131 & 0 & 0 & 115 & 1 & 1.2 & 2 & 1.0 & 7.0 & 3\\\\\n",
       "\t 57 & 0 & 2 & 130 & 236 & 0 & 2 & 174 & 0 & 0.0 & 2 & 1.0 & 3.0 & 1\\\\\n",
       "\t 38 & 1 & 3 & 138 & 175 & 0 & 0 & 173 & 0 & 0.0 & 1 & ?   & 3.0 & 0\\\\\n",
       "\\end{tabular}\n"
      ],
      "text/markdown": [
       "\n",
       "A data.frame: 302 × 14\n",
       "\n",
       "| age &lt;dbl&gt; | sex &lt;dbl&gt; | chest_pain &lt;dbl&gt; | resting_blood_pressure &lt;dbl&gt; | cholesterol &lt;dbl&gt; | fasting_blood_sugar &lt;dbl&gt; | resting_electrocardiographic_results &lt;dbl&gt; | max_heart_rate &lt;dbl&gt; | exercise_induced_angina &lt;dbl&gt; | S_depression_induced &lt;dbl&gt; | slope_of_peak_exercise &lt;dbl&gt; | major_vessels &lt;chr&gt; | thal &lt;chr&gt; | heart_disease_diagnosis &lt;int&gt; |\n",
       "|---|---|---|---|---|---|---|---|---|---|---|---|---|---|\n",
       "| 67 | 1 | 4 | 160 | 286 | 0 | 2 | 108 | 1 | 1.5 | 2 | 3.0 | 3.0 | 2 |\n",
       "| 67 | 1 | 4 | 120 | 229 | 0 | 2 | 129 | 1 | 2.6 | 2 | 2.0 | 7.0 | 1 |\n",
       "| 37 | 1 | 3 | 130 | 250 | 0 | 0 | 187 | 0 | 3.5 | 3 | 0.0 | 3.0 | 0 |\n",
       "| ⋮ | ⋮ | ⋮ | ⋮ | ⋮ | ⋮ | ⋮ | ⋮ | ⋮ | ⋮ | ⋮ | ⋮ | ⋮ | ⋮ |\n",
       "| 57 | 1 | 4 | 130 | 131 | 0 | 0 | 115 | 1 | 1.2 | 2 | 1.0 | 7.0 | 3 |\n",
       "| 57 | 0 | 2 | 130 | 236 | 0 | 2 | 174 | 0 | 0.0 | 2 | 1.0 | 3.0 | 1 |\n",
       "| 38 | 1 | 3 | 138 | 175 | 0 | 0 | 173 | 0 | 0.0 | 1 | ?   | 3.0 | 0 |\n",
       "\n"
      ],
      "text/plain": [
       "    age sex chest_pain resting_blood_pressure cholesterol fasting_blood_sugar\n",
       "1   67  1   4          160                    286         0                  \n",
       "2   67  1   4          120                    229         0                  \n",
       "3   37  1   3          130                    250         0                  \n",
       "⋮   ⋮   ⋮   ⋮          ⋮                      ⋮           ⋮                  \n",
       "300 57  1   4          130                    131         0                  \n",
       "301 57  0   2          130                    236         0                  \n",
       "302 38  1   3          138                    175         0                  \n",
       "    resting_electrocardiographic_results max_heart_rate exercise_induced_angina\n",
       "1   2                                    108            1                      \n",
       "2   2                                    129            1                      \n",
       "3   0                                    187            0                      \n",
       "⋮   ⋮                                    ⋮              ⋮                      \n",
       "300 0                                    115            1                      \n",
       "301 2                                    174            0                      \n",
       "302 0                                    173            0                      \n",
       "    S_depression_induced slope_of_peak_exercise major_vessels thal\n",
       "1   1.5                  2                      3.0           3.0 \n",
       "2   2.6                  2                      2.0           7.0 \n",
       "3   3.5                  3                      0.0           3.0 \n",
       "⋮   ⋮                    ⋮                      ⋮             ⋮   \n",
       "300 1.2                  2                      1.0           7.0 \n",
       "301 0.0                  2                      1.0           3.0 \n",
       "302 0.0                  1                      ?             3.0 \n",
       "    heart_disease_diagnosis\n",
       "1   2                      \n",
       "2   1                      \n",
       "3   0                      \n",
       "⋮   ⋮                      \n",
       "300 3                      \n",
       "301 1                      \n",
       "302 0                      "
      ]
     },
     "metadata": {},
     "output_type": "display_data"
    }
   ],
   "source": [
    "library(tidyverse)\n",
    "library(repr)\n",
    "library(tidymodels)\n",
    "\n",
    "url <- \"https://archive.ics.uci.edu/ml/machine-learning-databases/heart-disease/processed.cleveland.data\"\n",
    "heart_data <- read.csv(file = url) |>\n",
    "rename(age=X63.0,\n",
    "       sex=X1.0,\n",
    "       chest_pain=X1.0.1,\n",
    "       resting_blood_pressure=X145.0,\n",
    "       cholesterol=X233.0,\n",
    "       fasting_blood_sugar=X1.0.2,\n",
    "       resting_electrocardiographic_results=X2.0,\n",
    "       max_heart_rate=X150.0,\n",
    "       exercise_induced_angina=X0.0,\n",
    "       S_depression_induced=X2.3,\n",
    "       slope_of_peak_exercise=X3.0,\n",
    "       major_vessels=X0.0.1,\n",
    "       thal=X6.0,\n",
    "       heart_disease_diagnosis=X0)\n",
    "heart_data\n"
   ]
  },
  {
   "cell_type": "code",
   "execution_count": 83,
   "id": "b58ec667-362f-49cb-bc00-842fcee6d8e4",
   "metadata": {},
   "outputs": [
    {
     "data": {
      "text/html": [
       "<table class=\"dataframe\">\n",
       "<caption>A data.frame: 302 × 3</caption>\n",
       "<thead>\n",
       "\t<tr><th scope=col>sex</th><th scope=col>cholesterol</th><th scope=col>heart_disease_diagnosis</th></tr>\n",
       "\t<tr><th scope=col>&lt;dbl&gt;</th><th scope=col>&lt;dbl&gt;</th><th scope=col>&lt;int&gt;</th></tr>\n",
       "</thead>\n",
       "<tbody>\n",
       "\t<tr><td>0</td><td>141</td><td>0</td></tr>\n",
       "\t<tr><td>0</td><td>149</td><td>0</td></tr>\n",
       "\t<tr><td>0</td><td>160</td><td>0</td></tr>\n",
       "\t<tr><td>⋮</td><td>⋮</td><td>⋮</td></tr>\n",
       "\t<tr><td>1</td><td>335</td><td>1</td></tr>\n",
       "\t<tr><td>1</td><td>335</td><td>2</td></tr>\n",
       "\t<tr><td>1</td><td>353</td><td>3</td></tr>\n",
       "</tbody>\n",
       "</table>\n"
      ],
      "text/latex": [
       "A data.frame: 302 × 3\n",
       "\\begin{tabular}{lll}\n",
       " sex & cholesterol & heart\\_disease\\_diagnosis\\\\\n",
       " <dbl> & <dbl> & <int>\\\\\n",
       "\\hline\n",
       "\t 0 & 141 & 0\\\\\n",
       "\t 0 & 149 & 0\\\\\n",
       "\t 0 & 160 & 0\\\\\n",
       "\t ⋮ & ⋮ & ⋮\\\\\n",
       "\t 1 & 335 & 1\\\\\n",
       "\t 1 & 335 & 2\\\\\n",
       "\t 1 & 353 & 3\\\\\n",
       "\\end{tabular}\n"
      ],
      "text/markdown": [
       "\n",
       "A data.frame: 302 × 3\n",
       "\n",
       "| sex &lt;dbl&gt; | cholesterol &lt;dbl&gt; | heart_disease_diagnosis &lt;int&gt; |\n",
       "|---|---|---|\n",
       "| 0 | 141 | 0 |\n",
       "| 0 | 149 | 0 |\n",
       "| 0 | 160 | 0 |\n",
       "| ⋮ | ⋮ | ⋮ |\n",
       "| 1 | 335 | 1 |\n",
       "| 1 | 335 | 2 |\n",
       "| 1 | 353 | 3 |\n",
       "\n"
      ],
      "text/plain": [
       "    sex cholesterol heart_disease_diagnosis\n",
       "1   0   141         0                      \n",
       "2   0   149         0                      \n",
       "3   0   160         0                      \n",
       "⋮   ⋮   ⋮           ⋮                      \n",
       "300 1   335         1                      \n",
       "301 1   335         2                      \n",
       "302 1   353         3                      "
      ]
     },
     "metadata": {},
     "output_type": "display_data"
    }
   ],
   "source": [
    "#Selected columns (sex, cholesterol and heart_disease_diagnosis) from heart data.\n",
    "heart_data_selected <- select(heart_data, sex, cholesterol, heart_disease_diagnosis) |>\n",
    "                        arrange(sex, cholesterol)\n",
    "heart_data_selected"
   ]
  },
  {
   "cell_type": "code",
   "execution_count": 62,
   "id": "bb677536-c78b-45b0-b467-5f7ce3856ec0",
   "metadata": {},
   "outputs": [
    {
     "data": {
      "text/html": [
       "<table class=\"dataframe\">\n",
       "<caption>A tibble: 2 × 2</caption>\n",
       "<thead>\n",
       "\t<tr><th scope=col>sex</th><th scope=col>cholesterol</th></tr>\n",
       "\t<tr><th scope=col>&lt;dbl&gt;</th><th scope=col>&lt;dbl&gt;</th></tr>\n",
       "</thead>\n",
       "<tbody>\n",
       "\t<tr><td>0</td><td>261.7526</td></tr>\n",
       "\t<tr><td>1</td><td>239.6341</td></tr>\n",
       "</tbody>\n",
       "</table>\n"
      ],
      "text/latex": [
       "A tibble: 2 × 2\n",
       "\\begin{tabular}{ll}\n",
       " sex & cholesterol\\\\\n",
       " <dbl> & <dbl>\\\\\n",
       "\\hline\n",
       "\t 0 & 261.7526\\\\\n",
       "\t 1 & 239.6341\\\\\n",
       "\\end{tabular}\n"
      ],
      "text/markdown": [
       "\n",
       "A tibble: 2 × 2\n",
       "\n",
       "| sex &lt;dbl&gt; | cholesterol &lt;dbl&gt; |\n",
       "|---|---|\n",
       "| 0 | 261.7526 |\n",
       "| 1 | 239.6341 |\n",
       "\n"
      ],
      "text/plain": [
       "  sex cholesterol\n",
       "1 0   261.7526   \n",
       "2 1   239.6341   "
      ]
     },
     "metadata": {},
     "output_type": "display_data"
    }
   ],
   "source": [
    "#The table below reports the average cholesterol level for males(1) and females(0).\n",
    "sex_vs_cholesterol <- group_by(heart_data_selected, sex) |>\n",
    "                      summarize(cholesterol=mean(cholesterol, na.rm=TRUE))\n",
    "sex_vs_cholesterol"
   ]
  },
  {
   "cell_type": "code",
   "execution_count": 63,
   "id": "a896c40b-2156-424a-9edb-cd8a8b5f9b26",
   "metadata": {},
   "outputs": [
    {
     "data": {
      "text/html": [
       "<table class=\"dataframe\">\n",
       "<caption>A tibble: 2 × 2</caption>\n",
       "<thead>\n",
       "\t<tr><th scope=col>sex</th><th scope=col>heart_disease_diagnosis</th></tr>\n",
       "\t<tr><th scope=col>&lt;dbl&gt;</th><th scope=col>&lt;dbl&gt;</th></tr>\n",
       "</thead>\n",
       "<tbody>\n",
       "\t<tr><td>0</td><td>0.5360825</td></tr>\n",
       "\t<tr><td>1</td><td>1.1317073</td></tr>\n",
       "</tbody>\n",
       "</table>\n"
      ],
      "text/latex": [
       "A tibble: 2 × 2\n",
       "\\begin{tabular}{ll}\n",
       " sex & heart\\_disease\\_diagnosis\\\\\n",
       " <dbl> & <dbl>\\\\\n",
       "\\hline\n",
       "\t 0 & 0.5360825\\\\\n",
       "\t 1 & 1.1317073\\\\\n",
       "\\end{tabular}\n"
      ],
      "text/markdown": [
       "\n",
       "A tibble: 2 × 2\n",
       "\n",
       "| sex &lt;dbl&gt; | heart_disease_diagnosis &lt;dbl&gt; |\n",
       "|---|---|\n",
       "| 0 | 0.5360825 |\n",
       "| 1 | 1.1317073 |\n",
       "\n"
      ],
      "text/plain": [
       "  sex heart_disease_diagnosis\n",
       "1 0   0.5360825              \n",
       "2 1   1.1317073              "
      ]
     },
     "metadata": {},
     "output_type": "display_data"
    }
   ],
   "source": [
    "#The table below reports the average heart disease diagnosis (on a scale of 0-4) for males(1) and females(0).\n",
    "sex_vs_heart_disease <- group_by(heart_data_selected, sex) |>\n",
    "                        summarize(heart_disease_diagnosis=mean(heart_disease_diagnosis, na.rm=TRUE))\n",
    "sex_vs_heart_disease"
   ]
  },
  {
   "cell_type": "code",
   "execution_count": 67,
   "id": "33eed483-5f36-40e7-9435-aa820ea7e855",
   "metadata": {},
   "outputs": [
    {
     "data": {
      "text/html": [
       "<table class=\"dataframe\">\n",
       "<caption>A tibble: 5 × 2</caption>\n",
       "<thead>\n",
       "\t<tr><th scope=col>heart_disease_diagnosis</th><th scope=col>cholesterol</th></tr>\n",
       "\t<tr><th scope=col>&lt;int&gt;</th><th scope=col>&lt;dbl&gt;</th></tr>\n",
       "</thead>\n",
       "<tbody>\n",
       "\t<tr><td>0</td><td>242.6994</td></tr>\n",
       "\t<tr><td>1</td><td>249.1091</td></tr>\n",
       "\t<tr><td>2</td><td>259.2778</td></tr>\n",
       "\t<tr><td>3</td><td>246.4571</td></tr>\n",
       "\t<tr><td>4</td><td>253.3846</td></tr>\n",
       "</tbody>\n",
       "</table>\n"
      ],
      "text/latex": [
       "A tibble: 5 × 2\n",
       "\\begin{tabular}{ll}\n",
       " heart\\_disease\\_diagnosis & cholesterol\\\\\n",
       " <int> & <dbl>\\\\\n",
       "\\hline\n",
       "\t 0 & 242.6994\\\\\n",
       "\t 1 & 249.1091\\\\\n",
       "\t 2 & 259.2778\\\\\n",
       "\t 3 & 246.4571\\\\\n",
       "\t 4 & 253.3846\\\\\n",
       "\\end{tabular}\n"
      ],
      "text/markdown": [
       "\n",
       "A tibble: 5 × 2\n",
       "\n",
       "| heart_disease_diagnosis &lt;int&gt; | cholesterol &lt;dbl&gt; |\n",
       "|---|---|\n",
       "| 0 | 242.6994 |\n",
       "| 1 | 249.1091 |\n",
       "| 2 | 259.2778 |\n",
       "| 3 | 246.4571 |\n",
       "| 4 | 253.3846 |\n",
       "\n"
      ],
      "text/plain": [
       "  heart_disease_diagnosis cholesterol\n",
       "1 0                       242.6994   \n",
       "2 1                       249.1091   \n",
       "3 2                       259.2778   \n",
       "4 3                       246.4571   \n",
       "5 4                       253.3846   "
      ]
     },
     "metadata": {},
     "output_type": "display_data"
    }
   ],
   "source": [
    "#The table below reports the average cholesterol level for each heart disease diagnosis level (0-4).\n",
    "heart_disease_vs_cholesterol <- group_by(heart_data_selected, heart_disease_diagnosis) |>\n",
    "                                summarize(cholesterol=mean(cholesterol, na.rm=TRUE))\n",
    "heart_disease_vs_cholesterol"
   ]
  },
  {
   "cell_type": "code",
   "execution_count": 94,
   "id": "6cd56366-b2e8-41eb-9bef-a7e1f9444135",
   "metadata": {},
   "outputs": [
    {
     "data": {
      "image/png": "[encoded data removed]",
      "text/plain": [
       "plot without title"
      ]
     },
     "metadata": {
      "image/png": {
       "height": 420,
       "width": 420
      }
     },
     "output_type": "display_data"
    }
   ],
   "source": [
    "#Bar plot of heart disease level (0-4) vs cholesterol amount (mg/dl).\n",
    "plot_heart_disease_vs_cholesterol <- heart_disease_vs_cholesterol |>\n",
    "                            ggplot(aes(x=heart_disease_diagnosis, y=cholesterol)) +\n",
    "                                 geom_bar(stat=\"identity\") +\n",
    "                                 labs(x=\"Heart Disease Diagnosis (Scale of 0-4)\", y=\"Cholesterol Amount (mg/dl)\")\n",
    "plot_heart_disease_vs_cholesterol\n",
    "                                 "
   ]
  },
  {
   "cell_type": "code",
   "execution_count": null,
   "id": "84fb672b-62dc-4852-a94f-0b4f1665e4c8",
   "metadata": {},
   "outputs": [],
   "source": []
  }
 ],
 "metadata": {
  "kernelspec": {
   "display_name": "R",
   "language": "R",
   "name": "ir"
  },
  "language_info": {
   "codemirror_mode": "r",
   "file_extension": ".r",
   "mimetype": "text/x-r-source",
   "name": "R",
   "pygments_lexer": "r",
   "version": "4.1.3"
  }
 },
 "nbformat": 4,
 "nbformat_minor": 5
}
