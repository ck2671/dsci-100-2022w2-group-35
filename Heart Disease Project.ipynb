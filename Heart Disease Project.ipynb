{
 "cells": [
  {
   "cell_type": "markdown",
   "id": "212b10a0-ac9f-42cc-804e-04b48a3440ea",
   "metadata": {},
   "source": [
    "<font size=\"20\"> Prediction of Heart Disease </font>"
   ]
  },
  {
   "cell_type": "markdown",
   "id": "e9606af0-c9ee-499e-bd5e-00ea0f02faa0",
   "metadata": {},
   "source": [
    "<font size=\"4\"> Group: Christina Z, Abeer I, Adiba C, Renee C. </font>"
   ]
  },
  {
   "cell_type": "markdown",
   "id": "ef6eaa96-a1b7-42c2-b058-1807d2bb50f6",
   "metadata": {},
   "source": [
    "<font size=\"5\"> Introduction </font>\n",
    "\n",
    "\n"
   ]
  },
  {
   "cell_type": "markdown",
   "id": "e847d842-efe9-4e6b-bf79-308f8378b2f7",
   "metadata": {},
   "source": [
    "   Heart disease has been the leading cause of death in many countries (Namara et. al, 2022). High blood pressure is one of the main risk factors for heart disease among various others. With high blood pressure, the heart arteries become damaged by elasticity loss, which decreases the flow of blood to heart and leads to a heart disease (Fuchs et.al, 2020). Sex difference is also found to be a risk factor since scientists had proved that the associations between high blood pressure and heart disease were not equivalent in women and men (Colafella et.al, 2018). From this knowledge, we came up with a predictive question: what is the likelihood of developing heart disease based on blood pressure and sex? \n",
    "\n",
    "   We are going to use classification with K-nearest neighbors to answer our predictive question. The dataset we used contains 14 patient attributes which are relevant to the heart disease: age, sex, chest pain, resting blood pressure, …, and heart disease diagnosis. We will use sex, blood pressure and heart disease diagnosis to answer this question. \n"
   ]
  },
  {
   "cell_type": "markdown",
   "id": "dcee1e7a-d00b-4a71-983b-ddf9c064f4d8",
   "metadata": {},
   "source": [
    "<font size=\"5\"> Preliminary Exploratory Data Analysis </font>"
   ]
  },
  {
   "cell_type": "code",
   "execution_count": 59,
   "id": "762465bb-f466-4134-aac9-e408d8b079f4",
   "metadata": {},
   "outputs": [
    {
     "data": {
      "text/html": [
       "<table class=\"dataframe\">\n",
       "<caption>A data.frame: 302 × 14</caption>\n",
       "<thead>\n",
       "\t<tr><th scope=col>age</th><th scope=col>sex</th><th scope=col>chest_pain</th><th scope=col>resting_blood_pressure</th><th scope=col>cholesterol</th><th scope=col>fasting_blood_sugar</th><th scope=col>resting_electrocardiographic_results</th><th scope=col>max_heart_rate</th><th scope=col>exercise_induced_angina</th><th scope=col>S_depression_induced</th><th scope=col>slope_of_peak_exercise</th><th scope=col>major_vessels</th><th scope=col>thal</th><th scope=col>heart_disease_diagnosis</th></tr>\n",
       "\t<tr><th scope=col>&lt;dbl&gt;</th><th scope=col>&lt;dbl&gt;</th><th scope=col>&lt;dbl&gt;</th><th scope=col>&lt;dbl&gt;</th><th scope=col>&lt;dbl&gt;</th><th scope=col>&lt;dbl&gt;</th><th scope=col>&lt;dbl&gt;</th><th scope=col>&lt;dbl&gt;</th><th scope=col>&lt;dbl&gt;</th><th scope=col>&lt;dbl&gt;</th><th scope=col>&lt;dbl&gt;</th><th scope=col>&lt;chr&gt;</th><th scope=col>&lt;chr&gt;</th><th scope=col>&lt;int&gt;</th></tr>\n",
       "</thead>\n",
       "<tbody>\n",
       "\t<tr><td>67</td><td>1</td><td>4</td><td>160</td><td>286</td><td>0</td><td>2</td><td>108</td><td>1</td><td>1.5</td><td>2</td><td>3.0</td><td>3.0</td><td>2</td></tr>\n",
       "\t<tr><td>67</td><td>1</td><td>4</td><td>120</td><td>229</td><td>0</td><td>2</td><td>129</td><td>1</td><td>2.6</td><td>2</td><td>2.0</td><td>7.0</td><td>1</td></tr>\n",
       "\t<tr><td>37</td><td>1</td><td>3</td><td>130</td><td>250</td><td>0</td><td>0</td><td>187</td><td>0</td><td>3.5</td><td>3</td><td>0.0</td><td>3.0</td><td>0</td></tr>\n",
       "\t<tr><td>⋮</td><td>⋮</td><td>⋮</td><td>⋮</td><td>⋮</td><td>⋮</td><td>⋮</td><td>⋮</td><td>⋮</td><td>⋮</td><td>⋮</td><td>⋮</td><td>⋮</td><td>⋮</td></tr>\n",
       "\t<tr><td>57</td><td>1</td><td>4</td><td>130</td><td>131</td><td>0</td><td>0</td><td>115</td><td>1</td><td>1.2</td><td>2</td><td>1.0</td><td>7.0</td><td>3</td></tr>\n",
       "\t<tr><td>57</td><td>0</td><td>2</td><td>130</td><td>236</td><td>0</td><td>2</td><td>174</td><td>0</td><td>0.0</td><td>2</td><td>1.0</td><td>3.0</td><td>1</td></tr>\n",
       "\t<tr><td>38</td><td>1</td><td>3</td><td>138</td><td>175</td><td>0</td><td>0</td><td>173</td><td>0</td><td>0.0</td><td>1</td><td>?  </td><td>3.0</td><td>0</td></tr>\n",
       "</tbody>\n",
       "</table>\n"
      ],
      "text/latex": [
       "A data.frame: 302 × 14\n",
       "\\begin{tabular}{llllllllllllll}\n",
       " age & sex & chest\\_pain & resting\\_blood\\_pressure & cholesterol & fasting\\_blood\\_sugar & resting\\_electrocardiographic\\_results & max\\_heart\\_rate & exercise\\_induced\\_angina & S\\_depression\\_induced & slope\\_of\\_peak\\_exercise & major\\_vessels & thal & heart\\_disease\\_diagnosis\\\\\n",
       " <dbl> & <dbl> & <dbl> & <dbl> & <dbl> & <dbl> & <dbl> & <dbl> & <dbl> & <dbl> & <dbl> & <chr> & <chr> & <int>\\\\\n",
       "\\hline\n",
       "\t 67 & 1 & 4 & 160 & 286 & 0 & 2 & 108 & 1 & 1.5 & 2 & 3.0 & 3.0 & 2\\\\\n",
       "\t 67 & 1 & 4 & 120 & 229 & 0 & 2 & 129 & 1 & 2.6 & 2 & 2.0 & 7.0 & 1\\\\\n",
       "\t 37 & 1 & 3 & 130 & 250 & 0 & 0 & 187 & 0 & 3.5 & 3 & 0.0 & 3.0 & 0\\\\\n",
       "\t ⋮ & ⋮ & ⋮ & ⋮ & ⋮ & ⋮ & ⋮ & ⋮ & ⋮ & ⋮ & ⋮ & ⋮ & ⋮ & ⋮\\\\\n",
       "\t 57 & 1 & 4 & 130 & 131 & 0 & 0 & 115 & 1 & 1.2 & 2 & 1.0 & 7.0 & 3\\\\\n",
       "\t 57 & 0 & 2 & 130 & 236 & 0 & 2 & 174 & 0 & 0.0 & 2 & 1.0 & 3.0 & 1\\\\\n",
       "\t 38 & 1 & 3 & 138 & 175 & 0 & 0 & 173 & 0 & 0.0 & 1 & ?   & 3.0 & 0\\\\\n",
       "\\end{tabular}\n"
      ],
      "text/markdown": [
       "\n",
       "A data.frame: 302 × 14\n",
       "\n",
       "| age &lt;dbl&gt; | sex &lt;dbl&gt; | chest_pain &lt;dbl&gt; | resting_blood_pressure &lt;dbl&gt; | cholesterol &lt;dbl&gt; | fasting_blood_sugar &lt;dbl&gt; | resting_electrocardiographic_results &lt;dbl&gt; | max_heart_rate &lt;dbl&gt; | exercise_induced_angina &lt;dbl&gt; | S_depression_induced &lt;dbl&gt; | slope_of_peak_exercise &lt;dbl&gt; | major_vessels &lt;chr&gt; | thal &lt;chr&gt; | heart_disease_diagnosis &lt;int&gt; |\n",
       "|---|---|---|---|---|---|---|---|---|---|---|---|---|---|\n",
       "| 67 | 1 | 4 | 160 | 286 | 0 | 2 | 108 | 1 | 1.5 | 2 | 3.0 | 3.0 | 2 |\n",
       "| 67 | 1 | 4 | 120 | 229 | 0 | 2 | 129 | 1 | 2.6 | 2 | 2.0 | 7.0 | 1 |\n",
       "| 37 | 1 | 3 | 130 | 250 | 0 | 0 | 187 | 0 | 3.5 | 3 | 0.0 | 3.0 | 0 |\n",
       "| ⋮ | ⋮ | ⋮ | ⋮ | ⋮ | ⋮ | ⋮ | ⋮ | ⋮ | ⋮ | ⋮ | ⋮ | ⋮ | ⋮ |\n",
       "| 57 | 1 | 4 | 130 | 131 | 0 | 0 | 115 | 1 | 1.2 | 2 | 1.0 | 7.0 | 3 |\n",
       "| 57 | 0 | 2 | 130 | 236 | 0 | 2 | 174 | 0 | 0.0 | 2 | 1.0 | 3.0 | 1 |\n",
       "| 38 | 1 | 3 | 138 | 175 | 0 | 0 | 173 | 0 | 0.0 | 1 | ?   | 3.0 | 0 |\n",
       "\n"
      ],
      "text/plain": [
       "    age sex chest_pain resting_blood_pressure cholesterol fasting_blood_sugar\n",
       "1   67  1   4          160                    286         0                  \n",
       "2   67  1   4          120                    229         0                  \n",
       "3   37  1   3          130                    250         0                  \n",
       "⋮   ⋮   ⋮   ⋮          ⋮                      ⋮           ⋮                  \n",
       "300 57  1   4          130                    131         0                  \n",
       "301 57  0   2          130                    236         0                  \n",
       "302 38  1   3          138                    175         0                  \n",
       "    resting_electrocardiographic_results max_heart_rate exercise_induced_angina\n",
       "1   2                                    108            1                      \n",
       "2   2                                    129            1                      \n",
       "3   0                                    187            0                      \n",
       "⋮   ⋮                                    ⋮              ⋮                      \n",
       "300 0                                    115            1                      \n",
       "301 2                                    174            0                      \n",
       "302 0                                    173            0                      \n",
       "    S_depression_induced slope_of_peak_exercise major_vessels thal\n",
       "1   1.5                  2                      3.0           3.0 \n",
       "2   2.6                  2                      2.0           7.0 \n",
       "3   3.5                  3                      0.0           3.0 \n",
       "⋮   ⋮                    ⋮                      ⋮             ⋮   \n",
       "300 1.2                  2                      1.0           7.0 \n",
       "301 0.0                  2                      1.0           3.0 \n",
       "302 0.0                  1                      ?             3.0 \n",
       "    heart_disease_diagnosis\n",
       "1   2                      \n",
       "2   1                      \n",
       "3   0                      \n",
       "⋮   ⋮                      \n",
       "300 3                      \n",
       "301 1                      \n",
       "302 0                      "
      ]
     },
     "metadata": {},
     "output_type": "display_data"
    }
   ],
   "source": [
    "library(tidyverse)\n",
    "library(repr)\n",
    "library(tidymodels)\n",
    "options(repr.matrix.max.rows = 6)\n",
    "\n",
    "url <- \"https://archive.ics.uci.edu/ml/machine-learning-databases/heart-disease/processed.cleveland.data\"\n",
    "heart_data <- read.csv(file = url) |>\n",
    "rename(age=X63.0,\n",
    "       sex=X1.0,\n",
    "       chest_pain=X1.0.1,\n",
    "       resting_blood_pressure=X145.0,\n",
    "       cholesterol=X233.0,\n",
    "       fasting_blood_sugar=X1.0.2,\n",
    "       resting_electrocardiographic_results=X2.0,\n",
    "       max_heart_rate=X150.0,\n",
    "       exercise_induced_angina=X0.0,\n",
    "       S_depression_induced=X2.3,\n",
    "       slope_of_peak_exercise=X3.0,\n",
    "       major_vessels=X0.0.1,\n",
    "       thal=X6.0,\n",
    "       heart_disease_diagnosis=X0)\n",
    "heart_data \n"
   ]
  },
  {
   "cell_type": "code",
   "execution_count": 56,
   "id": "23b06017-454d-4c5f-8e8f-67b6bb9bdcb8",
   "metadata": {},
   "outputs": [],
   "source": [
    "#Splitting data into training and testing groups.\n",
    "set.seed(20)\n",
    "heart_split <- initial_split(heart_data, prop=0.75, strata=resting_blood_pressure)\n",
    "    heart_train <- training(heart_split)\n",
    "    heart_test <- testing(heart_split)"
   ]
  },
  {
   "cell_type": "code",
   "execution_count": 55,
   "id": "b58ec667-362f-49cb-bc00-842fcee6d8e4",
   "metadata": {},
   "outputs": [
    {
     "data": {
      "text/html": [
       "<table class=\"dataframe\">\n",
       "<caption>A data.frame: 224 × 5</caption>\n",
       "<thead>\n",
       "\t<tr><th scope=col>sex</th><th scope=col>age</th><th scope=col>cholesterol</th><th scope=col>resting_blood_pressure</th><th scope=col>heart_disease_diagnosis</th></tr>\n",
       "\t<tr><th scope=col>&lt;dbl&gt;</th><th scope=col>&lt;dbl&gt;</th><th scope=col>&lt;dbl&gt;</th><th scope=col>&lt;dbl&gt;</th><th scope=col>&lt;int&gt;</th></tr>\n",
       "</thead>\n",
       "<tbody>\n",
       "\t<tr><td>0</td><td>35</td><td>183</td><td>138</td><td>0</td></tr>\n",
       "\t<tr><td>0</td><td>37</td><td>215</td><td>120</td><td>0</td></tr>\n",
       "\t<tr><td>0</td><td>39</td><td>199</td><td> 94</td><td>0</td></tr>\n",
       "\t<tr><td>⋮</td><td>⋮</td><td>⋮</td><td>⋮</td><td>⋮</td></tr>\n",
       "\t<tr><td>1</td><td>70</td><td>245</td><td>156</td><td>0</td></tr>\n",
       "\t<tr><td>1</td><td>70</td><td>269</td><td>160</td><td>3</td></tr>\n",
       "\t<tr><td>1</td><td>77</td><td>304</td><td>125</td><td>4</td></tr>\n",
       "</tbody>\n",
       "</table>\n"
      ],
      "text/latex": [
       "A data.frame: 224 × 5\n",
       "\\begin{tabular}{lllll}\n",
       " sex & age & cholesterol & resting\\_blood\\_pressure & heart\\_disease\\_diagnosis\\\\\n",
       " <dbl> & <dbl> & <dbl> & <dbl> & <int>\\\\\n",
       "\\hline\n",
       "\t 0 & 35 & 183 & 138 & 0\\\\\n",
       "\t 0 & 37 & 215 & 120 & 0\\\\\n",
       "\t 0 & 39 & 199 &  94 & 0\\\\\n",
       "\t ⋮ & ⋮ & ⋮ & ⋮ & ⋮\\\\\n",
       "\t 1 & 70 & 245 & 156 & 0\\\\\n",
       "\t 1 & 70 & 269 & 160 & 3\\\\\n",
       "\t 1 & 77 & 304 & 125 & 4\\\\\n",
       "\\end{tabular}\n"
      ],
      "text/markdown": [
       "\n",
       "A data.frame: 224 × 5\n",
       "\n",
       "| sex &lt;dbl&gt; | age &lt;dbl&gt; | cholesterol &lt;dbl&gt; | resting_blood_pressure &lt;dbl&gt; | heart_disease_diagnosis &lt;int&gt; |\n",
       "|---|---|---|---|---|\n",
       "| 0 | 35 | 183 | 138 | 0 |\n",
       "| 0 | 37 | 215 | 120 | 0 |\n",
       "| 0 | 39 | 199 |  94 | 0 |\n",
       "| ⋮ | ⋮ | ⋮ | ⋮ | ⋮ |\n",
       "| 1 | 70 | 245 | 156 | 0 |\n",
       "| 1 | 70 | 269 | 160 | 3 |\n",
       "| 1 | 77 | 304 | 125 | 4 |\n",
       "\n"
      ],
      "text/plain": [
       "    sex age cholesterol resting_blood_pressure heart_disease_diagnosis\n",
       "1   0   35  183         138                    0                      \n",
       "2   0   37  215         120                    0                      \n",
       "3   0   39  199          94                    0                      \n",
       "⋮   ⋮   ⋮   ⋮           ⋮                      ⋮                      \n",
       "222 1   70  245         156                    0                      \n",
       "223 1   70  269         160                    3                      \n",
       "224 1   77  304         125                    4                      "
      ]
     },
     "metadata": {},
     "output_type": "display_data"
    }
   ],
   "source": [
    "#Selected columns (sex, resting blood pressure, and heart_disease_diagnosis) from heart data.\n",
    "heart_train_selected <- select(heart_train, sex, age, cholesterol, resting_blood_pressure, heart_disease_diagnosis) |>\n",
    "                        arrange(sex, age, resting_blood_pressure) \n",
    "heart_train_selected"
   ]
  },
  {
   "cell_type": "code",
   "execution_count": 57,
   "id": "ff62ccf4-a940-4aff-b03a-d288068cf583",
   "metadata": {},
   "outputs": [
    {
     "data": {
      "text/html": [
       "<table class=\"dataframe\">\n",
       "<caption>A tibble: 1 × 14</caption>\n",
       "<thead>\n",
       "\t<tr><th scope=col>age</th><th scope=col>sex</th><th scope=col>chest_pain</th><th scope=col>resting_blood_pressure</th><th scope=col>cholesterol</th><th scope=col>fasting_blood_sugar</th><th scope=col>resting_electrocardiographic_results</th><th scope=col>max_heart_rate</th><th scope=col>exercise_induced_angina</th><th scope=col>S_depression_induced</th><th scope=col>slope_of_peak_exercise</th><th scope=col>major_vessels</th><th scope=col>thal</th><th scope=col>heart_disease_diagnosis</th></tr>\n",
       "\t<tr><th scope=col>&lt;int&gt;</th><th scope=col>&lt;int&gt;</th><th scope=col>&lt;int&gt;</th><th scope=col>&lt;int&gt;</th><th scope=col>&lt;int&gt;</th><th scope=col>&lt;int&gt;</th><th scope=col>&lt;int&gt;</th><th scope=col>&lt;int&gt;</th><th scope=col>&lt;int&gt;</th><th scope=col>&lt;int&gt;</th><th scope=col>&lt;int&gt;</th><th scope=col>&lt;int&gt;</th><th scope=col>&lt;int&gt;</th><th scope=col>&lt;int&gt;</th></tr>\n",
       "</thead>\n",
       "<tbody>\n",
       "\t<tr><td>0</td><td>0</td><td>0</td><td>0</td><td>0</td><td>0</td><td>0</td><td>0</td><td>0</td><td>0</td><td>0</td><td>0</td><td>0</td><td>0</td></tr>\n",
       "</tbody>\n",
       "</table>\n"
      ],
      "text/latex": [
       "A tibble: 1 × 14\n",
       "\\begin{tabular}{llllllllllllll}\n",
       " age & sex & chest\\_pain & resting\\_blood\\_pressure & cholesterol & fasting\\_blood\\_sugar & resting\\_electrocardiographic\\_results & max\\_heart\\_rate & exercise\\_induced\\_angina & S\\_depression\\_induced & slope\\_of\\_peak\\_exercise & major\\_vessels & thal & heart\\_disease\\_diagnosis\\\\\n",
       " <int> & <int> & <int> & <int> & <int> & <int> & <int> & <int> & <int> & <int> & <int> & <int> & <int> & <int>\\\\\n",
       "\\hline\n",
       "\t 0 & 0 & 0 & 0 & 0 & 0 & 0 & 0 & 0 & 0 & 0 & 0 & 0 & 0\\\\\n",
       "\\end{tabular}\n"
      ],
      "text/markdown": [
       "\n",
       "A tibble: 1 × 14\n",
       "\n",
       "| age &lt;int&gt; | sex &lt;int&gt; | chest_pain &lt;int&gt; | resting_blood_pressure &lt;int&gt; | cholesterol &lt;int&gt; | fasting_blood_sugar &lt;int&gt; | resting_electrocardiographic_results &lt;int&gt; | max_heart_rate &lt;int&gt; | exercise_induced_angina &lt;int&gt; | S_depression_induced &lt;int&gt; | slope_of_peak_exercise &lt;int&gt; | major_vessels &lt;int&gt; | thal &lt;int&gt; | heart_disease_diagnosis &lt;int&gt; |\n",
       "|---|---|---|---|---|---|---|---|---|---|---|---|---|---|\n",
       "| 0 | 0 | 0 | 0 | 0 | 0 | 0 | 0 | 0 | 0 | 0 | 0 | 0 | 0 |\n",
       "\n"
      ],
      "text/plain": [
       "  age sex chest_pain resting_blood_pressure cholesterol fasting_blood_sugar\n",
       "1 0   0   0          0                      0           0                  \n",
       "  resting_electrocardiographic_results max_heart_rate exercise_induced_angina\n",
       "1 0                                    0              0                      \n",
       "  S_depression_induced slope_of_peak_exercise major_vessels thal\n",
       "1 0                    0                      0             0   \n",
       "  heart_disease_diagnosis\n",
       "1 0                      "
      ]
     },
     "metadata": {},
     "output_type": "display_data"
    }
   ],
   "source": [
    "#Table 1:\n",
    "#Reporting the number of rows with missing data (NA's).\n",
    "#Data shows that there are zero rows with missing data.\n",
    "heart_train %>%\n",
    "map_df(is.na) %>%\n",
    "map_df(sum)"
   ]
  },
  {
   "cell_type": "code",
   "execution_count": 58,
   "id": "e72d7339-39ec-46b3-b7f2-87c834618099",
   "metadata": {},
   "outputs": [
    {
     "data": {
      "text/html": [
       "224"
      ],
      "text/latex": [
       "224"
      ],
      "text/markdown": [
       "224"
      ],
      "text/plain": [
       "[1] 224"
      ]
     },
     "metadata": {},
     "output_type": "display_data"
    },
    {
     "data": {
      "text/html": [
       "224"
      ],
      "text/latex": [
       "224"
      ],
      "text/markdown": [
       "224"
      ],
      "text/plain": [
       "[1] 224"
      ]
     },
     "metadata": {},
     "output_type": "display_data"
    }
   ],
   "source": [
    "#We found that the total number of rows in the heart train dataset is 224, and the number of rows after removing for\n",
    "#any missing rows is also 224. This confirms that there are no rows with missing data in this dataset. \n",
    "nrow(heart_train)\n",
    "nrow(heart_train %>% na.omit())"
   ]
  },
  {
   "cell_type": "code",
   "execution_count": 14,
   "id": "3c06f166-f529-48ef-9aa5-80aca05f9f08",
   "metadata": {},
   "outputs": [
    {
     "data": {
      "text/html": [
       "<table class=\"dataframe\">\n",
       "<caption>A tibble: 5 × 2</caption>\n",
       "<thead>\n",
       "\t<tr><th scope=col>heart_disease_diagnosis</th><th scope=col>total</th></tr>\n",
       "\t<tr><th scope=col>&lt;int&gt;</th><th scope=col>&lt;int&gt;</th></tr>\n",
       "</thead>\n",
       "<tbody>\n",
       "\t<tr><td>0</td><td>120</td></tr>\n",
       "\t<tr><td>1</td><td> 41</td></tr>\n",
       "\t<tr><td>2</td><td> 22</td></tr>\n",
       "\t<tr><td>3</td><td> 28</td></tr>\n",
       "\t<tr><td>4</td><td> 13</td></tr>\n",
       "</tbody>\n",
       "</table>\n"
      ],
      "text/latex": [
       "A tibble: 5 × 2\n",
       "\\begin{tabular}{ll}\n",
       " heart\\_disease\\_diagnosis & total\\\\\n",
       " <int> & <int>\\\\\n",
       "\\hline\n",
       "\t 0 & 120\\\\\n",
       "\t 1 &  41\\\\\n",
       "\t 2 &  22\\\\\n",
       "\t 3 &  28\\\\\n",
       "\t 4 &  13\\\\\n",
       "\\end{tabular}\n"
      ],
      "text/markdown": [
       "\n",
       "A tibble: 5 × 2\n",
       "\n",
       "| heart_disease_diagnosis &lt;int&gt; | total &lt;int&gt; |\n",
       "|---|---|\n",
       "| 0 | 120 |\n",
       "| 1 |  41 |\n",
       "| 2 |  22 |\n",
       "| 3 |  28 |\n",
       "| 4 |  13 |\n",
       "\n"
      ],
      "text/plain": [
       "  heart_disease_diagnosis total\n",
       "1 0                       120  \n",
       "2 1                        41  \n",
       "3 2                        22  \n",
       "4 3                        28  \n",
       "5 4                        13  "
      ]
     },
     "metadata": {},
     "output_type": "display_data"
    }
   ],
   "source": [
    "#Table 2:\n",
    "#Reported number of observations for each class. It is found that there is the greatest amount of observations \n",
    "#found for the heart disease diagnosed as 0 and the least amount of observations for the heart disease diagnosed as 4.\n",
    "count <- group_by(heart_train_selected, heart_disease_diagnosis) |>\n",
    "            summarize(total=n())\n",
    "count"
   ]
  },
  {
   "cell_type": "code",
   "execution_count": 15,
   "id": "a896c40b-2156-424a-9edb-cd8a8b5f9b26",
   "metadata": {},
   "outputs": [
    {
     "data": {
      "text/html": [
       "<table class=\"dataframe\">\n",
       "<caption>A tibble: 2 × 2</caption>\n",
       "<thead>\n",
       "\t<tr><th scope=col>sex</th><th scope=col>heart_disease_diagnosis</th></tr>\n",
       "\t<tr><th scope=col>&lt;dbl&gt;</th><th scope=col>&lt;dbl&gt;</th></tr>\n",
       "</thead>\n",
       "<tbody>\n",
       "\t<tr><td>0</td><td>0.5882353</td></tr>\n",
       "\t<tr><td>1</td><td>1.1602564</td></tr>\n",
       "</tbody>\n",
       "</table>\n"
      ],
      "text/latex": [
       "A tibble: 2 × 2\n",
       "\\begin{tabular}{ll}\n",
       " sex & heart\\_disease\\_diagnosis\\\\\n",
       " <dbl> & <dbl>\\\\\n",
       "\\hline\n",
       "\t 0 & 0.5882353\\\\\n",
       "\t 1 & 1.1602564\\\\\n",
       "\\end{tabular}\n"
      ],
      "text/markdown": [
       "\n",
       "A tibble: 2 × 2\n",
       "\n",
       "| sex &lt;dbl&gt; | heart_disease_diagnosis &lt;dbl&gt; |\n",
       "|---|---|\n",
       "| 0 | 0.5882353 |\n",
       "| 1 | 1.1602564 |\n",
       "\n"
      ],
      "text/plain": [
       "  sex heart_disease_diagnosis\n",
       "1 0   0.5882353              \n",
       "2 1   1.1602564              "
      ]
     },
     "metadata": {},
     "output_type": "display_data"
    }
   ],
   "source": [
    "#Table 3:\n",
    "#The table below reports the average heart disease diagnosis (on a scale of 0-4) for males(1) and females(0).\n",
    "#It is found that the heart disease diagnosis level is slightly greater for males (~1.03) compared to females (~0.51).\n",
    "sex_vs_heart_disease <- group_by(heart_train_selected, sex) |>\n",
    "                        summarize(heart_disease_diagnosis=mean(heart_disease_diagnosis, na.rm=TRUE))\n",
    "sex_vs_heart_disease"
   ]
  },
  {
   "cell_type": "code",
   "execution_count": 16,
   "id": "33eed483-5f36-40e7-9435-aa820ea7e855",
   "metadata": {},
   "outputs": [
    {
     "data": {
      "text/html": [
       "<table class=\"dataframe\">\n",
       "<caption>A tibble: 5 × 2</caption>\n",
       "<thead>\n",
       "\t<tr><th scope=col>heart_disease_diagnosis</th><th scope=col>resting_blood_pressure</th></tr>\n",
       "\t<tr><th scope=col>&lt;int&gt;</th><th scope=col>&lt;dbl&gt;</th></tr>\n",
       "</thead>\n",
       "<tbody>\n",
       "\t<tr><td>0</td><td>128.9250</td></tr>\n",
       "\t<tr><td>1</td><td>133.1951</td></tr>\n",
       "\t<tr><td>2</td><td>135.7727</td></tr>\n",
       "\t<tr><td>3</td><td>132.9286</td></tr>\n",
       "\t<tr><td>4</td><td>138.7692</td></tr>\n",
       "</tbody>\n",
       "</table>\n"
      ],
      "text/latex": [
       "A tibble: 5 × 2\n",
       "\\begin{tabular}{ll}\n",
       " heart\\_disease\\_diagnosis & resting\\_blood\\_pressure\\\\\n",
       " <int> & <dbl>\\\\\n",
       "\\hline\n",
       "\t 0 & 128.9250\\\\\n",
       "\t 1 & 133.1951\\\\\n",
       "\t 2 & 135.7727\\\\\n",
       "\t 3 & 132.9286\\\\\n",
       "\t 4 & 138.7692\\\\\n",
       "\\end{tabular}\n"
      ],
      "text/markdown": [
       "\n",
       "A tibble: 5 × 2\n",
       "\n",
       "| heart_disease_diagnosis &lt;int&gt; | resting_blood_pressure &lt;dbl&gt; |\n",
       "|---|---|\n",
       "| 0 | 128.9250 |\n",
       "| 1 | 133.1951 |\n",
       "| 2 | 135.7727 |\n",
       "| 3 | 132.9286 |\n",
       "| 4 | 138.7692 |\n",
       "\n"
      ],
      "text/plain": [
       "  heart_disease_diagnosis resting_blood_pressure\n",
       "1 0                       128.9250              \n",
       "2 1                       133.1951              \n",
       "3 2                       135.7727              \n",
       "4 3                       132.9286              \n",
       "5 4                       138.7692              "
      ]
     },
     "metadata": {},
     "output_type": "display_data"
    }
   ],
   "source": [
    "#Table 4:\n",
    "#The table below reports the average resting blood pressure (mm Hg) for each heart disease diagnosis level (0-4). \n",
    "#There is generally a slight increase in resting blood pressure as the heart disease diagnosis level increases. \n",
    "heart_disease_vs_resting_blood_pressure <- group_by(heart_train_selected, heart_disease_diagnosis) |>\n",
    "                                summarize(resting_blood_pressure=mean(resting_blood_pressure, na.rm=TRUE))\n",
    "heart_disease_vs_resting_blood_pressure"
   ]
  },
  {
   "cell_type": "code",
   "execution_count": 52,
   "id": "0a931fc7-9afe-4ef8-97b3-81ef0150ae27",
   "metadata": {},
   "outputs": [
    {
     "data": {
      "image/png": "[encoded data removed]",
      "text/plain": [
       "plot without title"
      ]
     },
     "metadata": {
      "image/png": {
       "height": 420,
       "width": 420
      }
     },
     "output_type": "display_data"
    }
   ],
   "source": [
    "#Graph 1:\n",
    "#Plot of heart disease diagnosis on a scale of 0-4 versus resting blood pressure (mm Hg) in men and women. \n",
    "#The graph shows that heart disease diagnosis level has a weak positive correlation with resting blood pressure for \n",
    "#both male (1) and female (0). \n",
    "#An increase in the heart disease diagnosis level correlates to a slight increase in resting blood pressure amount.\n",
    "#There is a stronger relationship between heart disease diagnosis and resting blood pressure for males, but also  \n",
    "#more outliers in the data. \n",
    "plot_heart_disease_vs_resting_blood_pressure <- heart_train_selected |>\n",
    "                            mutate(heart_disease_diagnosis = as.factor(heart_disease_diagnosis)) |>\n",
    "                            mutate(sex = as.factor(sex)) |>\n",
    "                            ggplot(aes(x=heart_disease_diagnosis, y=age, fill=sex)) +\n",
    "                                 geom_boxplot() +\n",
    "                                 labs(x=\"Heart Disease Diagnosis (Scale of 0-4)\", y=\"Resting Blood Pressure (mm Hg)\", fill= \"Sex (0=Females, 1=Males)\", title=\"Heart Disease Diagnosis vs. Resting Blood Pressure\", )+\n",
    "                            facet_grid(sex~.) \n",
    "plot_heart_disease_vs_resting_blood_pressure"
   ]
  },
  {
   "cell_type": "code",
   "execution_count": 47,
   "id": "35d2655a-1846-42fc-bf0e-325986d5a7de",
   "metadata": {},
   "outputs": [],
   "source": [
    "#For our project, we are more interested in finding out whether or not heart disease is present in an individual, \n",
    "#rather than the level of heart disease severity (0, 1, 2, 3, 4). Therefore, we grouped all heart disease diagnosis\n",
    "#levels of 0 into one group (represented by 0) and we grouped all heart disease diagnosis levels of 1, 2, 3, and 4, into one group\n",
    "#into one group (represented by 1). The group represented by 0 indicates no heart disease present, while the group\n",
    "#represented by 1 indicates the presence of heart disease. \n",
    "heart_train_grouped <- heart_train_selected |>\n",
    "                        mutate(new_heart_binary=ifelse(heart_disease_diagnosis %in% c(1, 2, 3, 4), 1, 0)) |>\n",
    "                        mutate(new_heart_binary = as.factor(new_heart_binary)) "
   ]
  },
  {
   "cell_type": "code",
   "execution_count": 46,
   "id": "c39190d1-ac88-48dc-881d-846fc0b4e2db",
   "metadata": {},
   "outputs": [
    {
     "data": {
      "image/png": "[encoded data removed]",
      "text/plain": [
       "plot without title"
      ]
     },
     "metadata": {
      "image/png": {
       "height": 420,
       "width": 420
      }
     },
     "output_type": "display_data"
    }
   ],
   "source": [
    "#Graph 2: \n",
    "#Plot of the presence of heart disease (with 0 indicating no heart disease and 1 indicating the presence of heart \n",
    "#disease) versus the resting blood pressure level (in mm Hg). From this graph, we can more easily see a correlation.\n",
    "#The presence of heart disease is correlated with a higher median resting blood pressure level (~6 mm Hg increase) \n",
    "#compared to no presence of heart disease for both male (1) and female (0). Males (1) have generally a lower \n",
    "#resting blood pressure as compared to females (0). \n",
    "\n",
    "plot_heart_disease_vs_resting_blood_pressure <- heart_train_grouped |>\n",
    "                            mutate(sex = as.factor(sex)) |>\n",
    "                            ggplot(aes(x=new_heart_binary, y=age, fill=sex)) +\n",
    "                                 geom_boxplot() +\n",
    "                                 labs(x=\"Presence of Heart Disease (0=No, 1=Yes)\", y=\"Resting Blood Pressure (mm Hg)\", fill=\"Sex (0=Females, 1=Males)\", title=\"Presence of Heart Disease vs. Resting Blood Pressure\", )+\n",
    "                            facet_grid(sex~.)\n",
    "plot_heart_disease_vs_resting_blood_pressure"
   ]
  },
  {
   "cell_type": "code",
   "execution_count": 53,
   "id": "db045eb3-bc34-46c3-a6c1-39a80dc22cb7",
   "metadata": {},
   "outputs": [
    {
     "data": {
      "text/html": [
       "<table class=\"dataframe\">\n",
       "<caption>A tibble: 40 × 7</caption>\n",
       "<thead>\n",
       "\t<tr><th scope=col>neighbors</th><th scope=col>.metric</th><th scope=col>.estimator</th><th scope=col>mean</th><th scope=col>n</th><th scope=col>std_err</th><th scope=col>.config</th></tr>\n",
       "\t<tr><th scope=col>&lt;dbl&gt;</th><th scope=col>&lt;chr&gt;</th><th scope=col>&lt;chr&gt;</th><th scope=col>&lt;dbl&gt;</th><th scope=col>&lt;int&gt;</th><th scope=col>&lt;dbl&gt;</th><th scope=col>&lt;chr&gt;</th></tr>\n",
       "</thead>\n",
       "<tbody>\n",
       "\t<tr><td> 1</td><td>accuracy</td><td>binary</td><td>0.5535354</td><td>5</td><td>0.025417642</td><td>Preprocessor1_Model01</td></tr>\n",
       "\t<tr><td> 1</td><td>roc_auc </td><td>binary</td><td>0.5441667</td><td>5</td><td>0.023914501</td><td>Preprocessor1_Model01</td></tr>\n",
       "\t<tr><td> 6</td><td>accuracy</td><td>binary</td><td>0.5935354</td><td>5</td><td>0.021431287</td><td>Preprocessor1_Model02</td></tr>\n",
       "\t<tr><td> 6</td><td>roc_auc </td><td>binary</td><td>0.6256151</td><td>5</td><td>0.035524108</td><td>Preprocessor1_Model02</td></tr>\n",
       "\t<tr><td>11</td><td>accuracy</td><td>binary</td><td>0.5802020</td><td>5</td><td>0.012228482</td><td>Preprocessor1_Model03</td></tr>\n",
       "\t<tr><td>11</td><td>roc_auc </td><td>binary</td><td>0.6356052</td><td>5</td><td>0.019555509</td><td>Preprocessor1_Model03</td></tr>\n",
       "\t<tr><td>16</td><td>accuracy</td><td>binary</td><td>0.6120202</td><td>5</td><td>0.025661536</td><td>Preprocessor1_Model04</td></tr>\n",
       "\t<tr><td>16</td><td>roc_auc </td><td>binary</td><td>0.6386409</td><td>5</td><td>0.021191937</td><td>Preprocessor1_Model04</td></tr>\n",
       "\t<tr><td>21</td><td>accuracy</td><td>binary</td><td>0.5623232</td><td>5</td><td>0.014672217</td><td>Preprocessor1_Model05</td></tr>\n",
       "\t<tr><td>21</td><td>roc_auc </td><td>binary</td><td>0.6268155</td><td>5</td><td>0.017172843</td><td>Preprocessor1_Model05</td></tr>\n",
       "\t<tr><td>26</td><td>accuracy</td><td>binary</td><td>0.5627273</td><td>5</td><td>0.016711296</td><td>Preprocessor1_Model06</td></tr>\n",
       "\t<tr><td>26</td><td>roc_auc </td><td>binary</td><td>0.6408730</td><td>5</td><td>0.019134228</td><td>Preprocessor1_Model06</td></tr>\n",
       "\t<tr><td>31</td><td>accuracy</td><td>binary</td><td>0.5447475</td><td>5</td><td>0.012312879</td><td>Preprocessor1_Model07</td></tr>\n",
       "\t<tr><td>31</td><td>roc_auc </td><td>binary</td><td>0.6031250</td><td>5</td><td>0.010220060</td><td>Preprocessor1_Model07</td></tr>\n",
       "\t<tr><td>36</td><td>accuracy</td><td>binary</td><td>0.5536364</td><td>5</td><td>0.019427318</td><td>Preprocessor1_Model08</td></tr>\n",
       "\t<tr><td>36</td><td>roc_auc </td><td>binary</td><td>0.6097917</td><td>5</td><td>0.017011615</td><td>Preprocessor1_Model08</td></tr>\n",
       "\t<tr><td>41</td><td>accuracy</td><td>binary</td><td>0.5536364</td><td>5</td><td>0.024986681</td><td>Preprocessor1_Model09</td></tr>\n",
       "\t<tr><td>41</td><td>roc_auc </td><td>binary</td><td>0.6108333</td><td>5</td><td>0.019357658</td><td>Preprocessor1_Model09</td></tr>\n",
       "\t<tr><td>46</td><td>accuracy</td><td>binary</td><td>0.5714141</td><td>5</td><td>0.024733866</td><td>Preprocessor1_Model10</td></tr>\n",
       "\t<tr><td>46</td><td>roc_auc </td><td>binary</td><td>0.6254563</td><td>5</td><td>0.025336719</td><td>Preprocessor1_Model10</td></tr>\n",
       "\t<tr><td>51</td><td>accuracy</td><td>binary</td><td>0.5891919</td><td>5</td><td>0.006790253</td><td>Preprocessor1_Model11</td></tr>\n",
       "\t<tr><td>51</td><td>roc_auc </td><td>binary</td><td>0.6337798</td><td>5</td><td>0.020126240</td><td>Preprocessor1_Model11</td></tr>\n",
       "\t<tr><td>56</td><td>accuracy</td><td>binary</td><td>0.5936364</td><td>5</td><td>0.009480432</td><td>Preprocessor1_Model12</td></tr>\n",
       "\t<tr><td>56</td><td>roc_auc </td><td>binary</td><td>0.6190476</td><td>5</td><td>0.018736610</td><td>Preprocessor1_Model12</td></tr>\n",
       "\t<tr><td>61</td><td>accuracy</td><td>binary</td><td>0.5936364</td><td>5</td><td>0.019651333</td><td>Preprocessor1_Model13</td></tr>\n",
       "\t<tr><td>61</td><td>roc_auc </td><td>binary</td><td>0.5811012</td><td>5</td><td>0.035387094</td><td>Preprocessor1_Model13</td></tr>\n",
       "\t<tr><td>66</td><td>accuracy</td><td>binary</td><td>0.5980808</td><td>5</td><td>0.020495594</td><td>Preprocessor1_Model14</td></tr>\n",
       "\t<tr><td>66</td><td>roc_auc </td><td>binary</td><td>0.6334226</td><td>5</td><td>0.021695594</td><td>Preprocessor1_Model14</td></tr>\n",
       "\t<tr><td>71</td><td>accuracy</td><td>binary</td><td>0.5936364</td><td>5</td><td>0.029664828</td><td>Preprocessor1_Model15</td></tr>\n",
       "\t<tr><td>71</td><td>roc_auc </td><td>binary</td><td>0.6280754</td><td>5</td><td>0.029251745</td><td>Preprocessor1_Model15</td></tr>\n",
       "\t<tr><td>76</td><td>accuracy</td><td>binary</td><td>0.5891919</td><td>5</td><td>0.028917659</td><td>Preprocessor1_Model16</td></tr>\n",
       "\t<tr><td>76</td><td>roc_auc </td><td>binary</td><td>0.6665972</td><td>5</td><td>0.029493580</td><td>Preprocessor1_Model16</td></tr>\n",
       "\t<tr><td>81</td><td>accuracy</td><td>binary</td><td>0.6158586</td><td>5</td><td>0.014490285</td><td>Preprocessor1_Model17</td></tr>\n",
       "\t<tr><td>81</td><td>roc_auc </td><td>binary</td><td>0.6437202</td><td>5</td><td>0.033003999</td><td>Preprocessor1_Model17</td></tr>\n",
       "\t<tr><td>86</td><td>accuracy</td><td>binary</td><td>0.6158586</td><td>5</td><td>0.014490285</td><td>Preprocessor1_Model18</td></tr>\n",
       "\t<tr><td>86</td><td>roc_auc </td><td>binary</td><td>0.6306944</td><td>5</td><td>0.057075454</td><td>Preprocessor1_Model18</td></tr>\n",
       "\t<tr><td>91</td><td>accuracy</td><td>binary</td><td>0.6158586</td><td>5</td><td>0.017570822</td><td>Preprocessor1_Model19</td></tr>\n",
       "\t<tr><td>91</td><td>roc_auc </td><td>binary</td><td>0.6280853</td><td>5</td><td>0.041974570</td><td>Preprocessor1_Model19</td></tr>\n",
       "\t<tr><td>96</td><td>accuracy</td><td>binary</td><td>0.6158586</td><td>5</td><td>0.017570822</td><td>Preprocessor1_Model20</td></tr>\n",
       "\t<tr><td>96</td><td>roc_auc </td><td>binary</td><td>0.6368452</td><td>5</td><td>0.047288490</td><td>Preprocessor1_Model20</td></tr>\n",
       "</tbody>\n",
       "</table>\n"
      ],
      "text/latex": [
       "A tibble: 40 × 7\n",
       "\\begin{tabular}{lllllll}\n",
       " neighbors & .metric & .estimator & mean & n & std\\_err & .config\\\\\n",
       " <dbl> & <chr> & <chr> & <dbl> & <int> & <dbl> & <chr>\\\\\n",
       "\\hline\n",
       "\t  1 & accuracy & binary & 0.5535354 & 5 & 0.025417642 & Preprocessor1\\_Model01\\\\\n",
       "\t  1 & roc\\_auc  & binary & 0.5441667 & 5 & 0.023914501 & Preprocessor1\\_Model01\\\\\n",
       "\t  6 & accuracy & binary & 0.5935354 & 5 & 0.021431287 & Preprocessor1\\_Model02\\\\\n",
       "\t  6 & roc\\_auc  & binary & 0.6256151 & 5 & 0.035524108 & Preprocessor1\\_Model02\\\\\n",
       "\t 11 & accuracy & binary & 0.5802020 & 5 & 0.012228482 & Preprocessor1\\_Model03\\\\\n",
       "\t 11 & roc\\_auc  & binary & 0.6356052 & 5 & 0.019555509 & Preprocessor1\\_Model03\\\\\n",
       "\t 16 & accuracy & binary & 0.6120202 & 5 & 0.025661536 & Preprocessor1\\_Model04\\\\\n",
       "\t 16 & roc\\_auc  & binary & 0.6386409 & 5 & 0.021191937 & Preprocessor1\\_Model04\\\\\n",
       "\t 21 & accuracy & binary & 0.5623232 & 5 & 0.014672217 & Preprocessor1\\_Model05\\\\\n",
       "\t 21 & roc\\_auc  & binary & 0.6268155 & 5 & 0.017172843 & Preprocessor1\\_Model05\\\\\n",
       "\t 26 & accuracy & binary & 0.5627273 & 5 & 0.016711296 & Preprocessor1\\_Model06\\\\\n",
       "\t 26 & roc\\_auc  & binary & 0.6408730 & 5 & 0.019134228 & Preprocessor1\\_Model06\\\\\n",
       "\t 31 & accuracy & binary & 0.5447475 & 5 & 0.012312879 & Preprocessor1\\_Model07\\\\\n",
       "\t 31 & roc\\_auc  & binary & 0.6031250 & 5 & 0.010220060 & Preprocessor1\\_Model07\\\\\n",
       "\t 36 & accuracy & binary & 0.5536364 & 5 & 0.019427318 & Preprocessor1\\_Model08\\\\\n",
       "\t 36 & roc\\_auc  & binary & 0.6097917 & 5 & 0.017011615 & Preprocessor1\\_Model08\\\\\n",
       "\t 41 & accuracy & binary & 0.5536364 & 5 & 0.024986681 & Preprocessor1\\_Model09\\\\\n",
       "\t 41 & roc\\_auc  & binary & 0.6108333 & 5 & 0.019357658 & Preprocessor1\\_Model09\\\\\n",
       "\t 46 & accuracy & binary & 0.5714141 & 5 & 0.024733866 & Preprocessor1\\_Model10\\\\\n",
       "\t 46 & roc\\_auc  & binary & 0.6254563 & 5 & 0.025336719 & Preprocessor1\\_Model10\\\\\n",
       "\t 51 & accuracy & binary & 0.5891919 & 5 & 0.006790253 & Preprocessor1\\_Model11\\\\\n",
       "\t 51 & roc\\_auc  & binary & 0.6337798 & 5 & 0.020126240 & Preprocessor1\\_Model11\\\\\n",
       "\t 56 & accuracy & binary & 0.5936364 & 5 & 0.009480432 & Preprocessor1\\_Model12\\\\\n",
       "\t 56 & roc\\_auc  & binary & 0.6190476 & 5 & 0.018736610 & Preprocessor1\\_Model12\\\\\n",
       "\t 61 & accuracy & binary & 0.5936364 & 5 & 0.019651333 & Preprocessor1\\_Model13\\\\\n",
       "\t 61 & roc\\_auc  & binary & 0.5811012 & 5 & 0.035387094 & Preprocessor1\\_Model13\\\\\n",
       "\t 66 & accuracy & binary & 0.5980808 & 5 & 0.020495594 & Preprocessor1\\_Model14\\\\\n",
       "\t 66 & roc\\_auc  & binary & 0.6334226 & 5 & 0.021695594 & Preprocessor1\\_Model14\\\\\n",
       "\t 71 & accuracy & binary & 0.5936364 & 5 & 0.029664828 & Preprocessor1\\_Model15\\\\\n",
       "\t 71 & roc\\_auc  & binary & 0.6280754 & 5 & 0.029251745 & Preprocessor1\\_Model15\\\\\n",
       "\t 76 & accuracy & binary & 0.5891919 & 5 & 0.028917659 & Preprocessor1\\_Model16\\\\\n",
       "\t 76 & roc\\_auc  & binary & 0.6665972 & 5 & 0.029493580 & Preprocessor1\\_Model16\\\\\n",
       "\t 81 & accuracy & binary & 0.6158586 & 5 & 0.014490285 & Preprocessor1\\_Model17\\\\\n",
       "\t 81 & roc\\_auc  & binary & 0.6437202 & 5 & 0.033003999 & Preprocessor1\\_Model17\\\\\n",
       "\t 86 & accuracy & binary & 0.6158586 & 5 & 0.014490285 & Preprocessor1\\_Model18\\\\\n",
       "\t 86 & roc\\_auc  & binary & 0.6306944 & 5 & 0.057075454 & Preprocessor1\\_Model18\\\\\n",
       "\t 91 & accuracy & binary & 0.6158586 & 5 & 0.017570822 & Preprocessor1\\_Model19\\\\\n",
       "\t 91 & roc\\_auc  & binary & 0.6280853 & 5 & 0.041974570 & Preprocessor1\\_Model19\\\\\n",
       "\t 96 & accuracy & binary & 0.6158586 & 5 & 0.017570822 & Preprocessor1\\_Model20\\\\\n",
       "\t 96 & roc\\_auc  & binary & 0.6368452 & 5 & 0.047288490 & Preprocessor1\\_Model20\\\\\n",
       "\\end{tabular}\n"
      ],
      "text/markdown": [
       "\n",
       "A tibble: 40 × 7\n",
       "\n",
       "| neighbors &lt;dbl&gt; | .metric &lt;chr&gt; | .estimator &lt;chr&gt; | mean &lt;dbl&gt; | n &lt;int&gt; | std_err &lt;dbl&gt; | .config &lt;chr&gt; |\n",
       "|---|---|---|---|---|---|---|\n",
       "|  1 | accuracy | binary | 0.5535354 | 5 | 0.025417642 | Preprocessor1_Model01 |\n",
       "|  1 | roc_auc  | binary | 0.5441667 | 5 | 0.023914501 | Preprocessor1_Model01 |\n",
       "|  6 | accuracy | binary | 0.5935354 | 5 | 0.021431287 | Preprocessor1_Model02 |\n",
       "|  6 | roc_auc  | binary | 0.6256151 | 5 | 0.035524108 | Preprocessor1_Model02 |\n",
       "| 11 | accuracy | binary | 0.5802020 | 5 | 0.012228482 | Preprocessor1_Model03 |\n",
       "| 11 | roc_auc  | binary | 0.6356052 | 5 | 0.019555509 | Preprocessor1_Model03 |\n",
       "| 16 | accuracy | binary | 0.6120202 | 5 | 0.025661536 | Preprocessor1_Model04 |\n",
       "| 16 | roc_auc  | binary | 0.6386409 | 5 | 0.021191937 | Preprocessor1_Model04 |\n",
       "| 21 | accuracy | binary | 0.5623232 | 5 | 0.014672217 | Preprocessor1_Model05 |\n",
       "| 21 | roc_auc  | binary | 0.6268155 | 5 | 0.017172843 | Preprocessor1_Model05 |\n",
       "| 26 | accuracy | binary | 0.5627273 | 5 | 0.016711296 | Preprocessor1_Model06 |\n",
       "| 26 | roc_auc  | binary | 0.6408730 | 5 | 0.019134228 | Preprocessor1_Model06 |\n",
       "| 31 | accuracy | binary | 0.5447475 | 5 | 0.012312879 | Preprocessor1_Model07 |\n",
       "| 31 | roc_auc  | binary | 0.6031250 | 5 | 0.010220060 | Preprocessor1_Model07 |\n",
       "| 36 | accuracy | binary | 0.5536364 | 5 | 0.019427318 | Preprocessor1_Model08 |\n",
       "| 36 | roc_auc  | binary | 0.6097917 | 5 | 0.017011615 | Preprocessor1_Model08 |\n",
       "| 41 | accuracy | binary | 0.5536364 | 5 | 0.024986681 | Preprocessor1_Model09 |\n",
       "| 41 | roc_auc  | binary | 0.6108333 | 5 | 0.019357658 | Preprocessor1_Model09 |\n",
       "| 46 | accuracy | binary | 0.5714141 | 5 | 0.024733866 | Preprocessor1_Model10 |\n",
       "| 46 | roc_auc  | binary | 0.6254563 | 5 | 0.025336719 | Preprocessor1_Model10 |\n",
       "| 51 | accuracy | binary | 0.5891919 | 5 | 0.006790253 | Preprocessor1_Model11 |\n",
       "| 51 | roc_auc  | binary | 0.6337798 | 5 | 0.020126240 | Preprocessor1_Model11 |\n",
       "| 56 | accuracy | binary | 0.5936364 | 5 | 0.009480432 | Preprocessor1_Model12 |\n",
       "| 56 | roc_auc  | binary | 0.6190476 | 5 | 0.018736610 | Preprocessor1_Model12 |\n",
       "| 61 | accuracy | binary | 0.5936364 | 5 | 0.019651333 | Preprocessor1_Model13 |\n",
       "| 61 | roc_auc  | binary | 0.5811012 | 5 | 0.035387094 | Preprocessor1_Model13 |\n",
       "| 66 | accuracy | binary | 0.5980808 | 5 | 0.020495594 | Preprocessor1_Model14 |\n",
       "| 66 | roc_auc  | binary | 0.6334226 | 5 | 0.021695594 | Preprocessor1_Model14 |\n",
       "| 71 | accuracy | binary | 0.5936364 | 5 | 0.029664828 | Preprocessor1_Model15 |\n",
       "| 71 | roc_auc  | binary | 0.6280754 | 5 | 0.029251745 | Preprocessor1_Model15 |\n",
       "| 76 | accuracy | binary | 0.5891919 | 5 | 0.028917659 | Preprocessor1_Model16 |\n",
       "| 76 | roc_auc  | binary | 0.6665972 | 5 | 0.029493580 | Preprocessor1_Model16 |\n",
       "| 81 | accuracy | binary | 0.6158586 | 5 | 0.014490285 | Preprocessor1_Model17 |\n",
       "| 81 | roc_auc  | binary | 0.6437202 | 5 | 0.033003999 | Preprocessor1_Model17 |\n",
       "| 86 | accuracy | binary | 0.6158586 | 5 | 0.014490285 | Preprocessor1_Model18 |\n",
       "| 86 | roc_auc  | binary | 0.6306944 | 5 | 0.057075454 | Preprocessor1_Model18 |\n",
       "| 91 | accuracy | binary | 0.6158586 | 5 | 0.017570822 | Preprocessor1_Model19 |\n",
       "| 91 | roc_auc  | binary | 0.6280853 | 5 | 0.041974570 | Preprocessor1_Model19 |\n",
       "| 96 | accuracy | binary | 0.6158586 | 5 | 0.017570822 | Preprocessor1_Model20 |\n",
       "| 96 | roc_auc  | binary | 0.6368452 | 5 | 0.047288490 | Preprocessor1_Model20 |\n",
       "\n"
      ],
      "text/plain": [
       "   neighbors .metric  .estimator mean      n std_err     .config              \n",
       "1   1        accuracy binary     0.5535354 5 0.025417642 Preprocessor1_Model01\n",
       "2   1        roc_auc  binary     0.5441667 5 0.023914501 Preprocessor1_Model01\n",
       "3   6        accuracy binary     0.5935354 5 0.021431287 Preprocessor1_Model02\n",
       "4   6        roc_auc  binary     0.6256151 5 0.035524108 Preprocessor1_Model02\n",
       "5  11        accuracy binary     0.5802020 5 0.012228482 Preprocessor1_Model03\n",
       "6  11        roc_auc  binary     0.6356052 5 0.019555509 Preprocessor1_Model03\n",
       "7  16        accuracy binary     0.6120202 5 0.025661536 Preprocessor1_Model04\n",
       "8  16        roc_auc  binary     0.6386409 5 0.021191937 Preprocessor1_Model04\n",
       "9  21        accuracy binary     0.5623232 5 0.014672217 Preprocessor1_Model05\n",
       "10 21        roc_auc  binary     0.6268155 5 0.017172843 Preprocessor1_Model05\n",
       "11 26        accuracy binary     0.5627273 5 0.016711296 Preprocessor1_Model06\n",
       "12 26        roc_auc  binary     0.6408730 5 0.019134228 Preprocessor1_Model06\n",
       "13 31        accuracy binary     0.5447475 5 0.012312879 Preprocessor1_Model07\n",
       "14 31        roc_auc  binary     0.6031250 5 0.010220060 Preprocessor1_Model07\n",
       "15 36        accuracy binary     0.5536364 5 0.019427318 Preprocessor1_Model08\n",
       "16 36        roc_auc  binary     0.6097917 5 0.017011615 Preprocessor1_Model08\n",
       "17 41        accuracy binary     0.5536364 5 0.024986681 Preprocessor1_Model09\n",
       "18 41        roc_auc  binary     0.6108333 5 0.019357658 Preprocessor1_Model09\n",
       "19 46        accuracy binary     0.5714141 5 0.024733866 Preprocessor1_Model10\n",
       "20 46        roc_auc  binary     0.6254563 5 0.025336719 Preprocessor1_Model10\n",
       "21 51        accuracy binary     0.5891919 5 0.006790253 Preprocessor1_Model11\n",
       "22 51        roc_auc  binary     0.6337798 5 0.020126240 Preprocessor1_Model11\n",
       "23 56        accuracy binary     0.5936364 5 0.009480432 Preprocessor1_Model12\n",
       "24 56        roc_auc  binary     0.6190476 5 0.018736610 Preprocessor1_Model12\n",
       "25 61        accuracy binary     0.5936364 5 0.019651333 Preprocessor1_Model13\n",
       "26 61        roc_auc  binary     0.5811012 5 0.035387094 Preprocessor1_Model13\n",
       "27 66        accuracy binary     0.5980808 5 0.020495594 Preprocessor1_Model14\n",
       "28 66        roc_auc  binary     0.6334226 5 0.021695594 Preprocessor1_Model14\n",
       "29 71        accuracy binary     0.5936364 5 0.029664828 Preprocessor1_Model15\n",
       "30 71        roc_auc  binary     0.6280754 5 0.029251745 Preprocessor1_Model15\n",
       "31 76        accuracy binary     0.5891919 5 0.028917659 Preprocessor1_Model16\n",
       "32 76        roc_auc  binary     0.6665972 5 0.029493580 Preprocessor1_Model16\n",
       "33 81        accuracy binary     0.6158586 5 0.014490285 Preprocessor1_Model17\n",
       "34 81        roc_auc  binary     0.6437202 5 0.033003999 Preprocessor1_Model17\n",
       "35 86        accuracy binary     0.6158586 5 0.014490285 Preprocessor1_Model18\n",
       "36 86        roc_auc  binary     0.6306944 5 0.057075454 Preprocessor1_Model18\n",
       "37 91        accuracy binary     0.6158586 5 0.017570822 Preprocessor1_Model19\n",
       "38 91        roc_auc  binary     0.6280853 5 0.041974570 Preprocessor1_Model19\n",
       "39 96        accuracy binary     0.6158586 5 0.017570822 Preprocessor1_Model20\n",
       "40 96        roc_auc  binary     0.6368452 5 0.047288490 Preprocessor1_Model20"
      ]
     },
     "metadata": {},
     "output_type": "display_data"
    },
    {
     "data": {
      "image/png": "[encoded data removed]",
      "text/plain": [
       "plot without title"
      ]
     },
     "metadata": {
      "image/png": {
       "height": 420,
       "width": 420
      }
     },
     "output_type": "display_data"
    }
   ],
   "source": [
    "set.seed(20)\n",
    "#set seed to ensure we are using the same randomised numbers\n",
    "\n",
    "heart_vfold <- vfold_cv(heart_train_grouped, v = 5, strata = new_heart_binary)\n",
    "\n",
    "heart_recipe <- recipe(new_heart_binary ~ resting_blood_pressure + sex, data = heart_train_grouped) |>\n",
    "  step_scale(all_predictors()) |>\n",
    "  step_center(all_predictors())\n",
    "\n",
    "knn_spec <- nearest_neighbor(weight_func = \"rectangular\", neighbors = tune()) |>\n",
    "  set_engine(\"kknn\") |>\n",
    "  set_mode(\"classification\")\n",
    "\n",
    "k_vals <- tibble(neighbors=seq(from=1, to=100, by=5))\n",
    "\n",
    "knn_results <- workflow() |>\n",
    "  add_recipe(heart_recipe) |>\n",
    "  add_model(knn_spec) |>\n",
    "  tune_grid(resamples = heart_vfold, grid = k_vals) |>\n",
    "  collect_metrics()\n",
    "knn_results\n",
    "\n",
    "accuracies <- knn_results |>\n",
    "  filter(.metric == \"accuracy\")\n",
    "\n",
    "cross_val_plot <- accuracies |> \n",
    "    ggplot(aes(x = neighbors, y = mean)) +\n",
    "    geom_point() +\n",
    "    geom_line() +\n",
    "    labs(x = \"Neighbors\", y = \"Accuracy Estimate\") +\n",
    "    theme(text = element_text(size = 20))\n",
    "cross_val_plot\n"
   ]
  },
  {
   "cell_type": "markdown",
   "id": "d3c33237",
   "metadata": {},
   "source": [
    "<font size=\"5\"> Methods </font>"
   ]
  },
  {
   "cell_type": "markdown",
   "id": "98fbdc37-29ec-4558-868e-69360edea395",
   "metadata": {},
   "source": [
    "We will create a summary table to predict whether heart disease diagnosis is affected by the factors. The original data set is quite tidy but not all the data is relevant. Therefore we use select() to create a table with relevant data(blood pressure, sex and heart disease diagnosis). Next, we will create a visualisation plot. We will make a box-plot and use facet_grid() to create visualisation plots that show how the factors interact for each gender on top of each other. \n",
    "\n",
    "To create the model we will split our dataset into training and testing dataset, setting aside the test dataset until the end to test our model. The training dataset will be further broken up into validation and training set 5 times (5-fold cross validation). Then, we will create a plot of accuracy versus k value to ensure we pick the k-value with the highest accuracy to ensure our model is as accurate as possible. We will use k-nearest-neighbour and use the two factors as the predictors and predict whether heart disease is present or not.\n"
   ]
  },
  {
   "cell_type": "markdown",
   "id": "716ee4b4-d34f-4ce2-86c3-6faec7039690",
   "metadata": {},
   "source": [
    "<font size=\"5\"> Expected outcomes and significance </font>"
   ]
  },
  {
   "cell_type": "markdown",
   "id": "9c38024e-7320-4b58-857d-187d2e8f6622",
   "metadata": {},
   "source": [
    "Colafella et.al had claimed that the associations between high blood pressure and heart disease outcomes were not equivalent in women and men. However, a clear relationship with sufficient data was not presented. Thus, we expect to find a relationship between blood pressure, sex and heart disease in order to better predict the chance of getting heart disease. \n",
    "  \n",
    "These findings could be impactful in providing more of a visual and explanatory answer to the relationship between sex with blood pressure & heart disease diagnoses; a strong relationship would allow a more accurate model that can help people predict their chance of getting heart disease. As well, if the findings supplement Colafella et.al’s claim, more research can be conducted to understand the causes for the difference. \n",
    "        \n",
    "Furthermore, it could lead to the question of helping people to get their results to the optimal healthy level, which will help lower their chances of getting CHD or at least subvert some of the symptoms to a more manageable level. That way, more people can create a health plan that helps themselves in terms of their health.\n"
   ]
  },
  {
   "cell_type": "markdown",
   "id": "a1be8dfd-0bfd-4aed-b15a-5969dbe213dd",
   "metadata": {},
   "source": [
    "<font size=\"5\"> References </font>"
   ]
  },
  {
   "cell_type": "markdown",
   "id": "f02988ce-e6b4-4b74-b8d9-37f49dcd36cb",
   "metadata": {},
   "source": [
    "Fuchs, F. D. & Whelton, P. K.(2020). High blood pressure and cardiovascular disease. Hypertension 75(2). 285–292.doi.org/10.1161/HYPERTENSIONAHA.119.14240.\n",
    "\n",
    "Namara, K., Alzubaidi, H., Jackson, JK. (2019). Cardiovascular disease as a leading cause of death: how are pharmacists getting involved?. Integr Pham Res Pract. 8.1-11. doi: 10.2147/IPRP.S133088. \n",
    "\n",
    "Colafella, KMM., Denton, KM. (2017). Sex-specific differences in hypertension and associated cardiovascular disease. Nat Rev Nephrol. 14. 185-201.  doi: 10.1038/nrneph.2017.189."
   ]
  }
 ],
 "metadata": {
  "kernelspec": {
   "display_name": "R",
   "language": "R",
   "name": "ir"
  },
  "language_info": {
   "codemirror_mode": "r",
   "file_extension": ".r",
   "mimetype": "text/x-r-source",
   "name": "R",
   "pygments_lexer": "r",
   "version": "4.1.3"
  }
 },
 "nbformat": 4,
 "nbformat_minor": 5
}
