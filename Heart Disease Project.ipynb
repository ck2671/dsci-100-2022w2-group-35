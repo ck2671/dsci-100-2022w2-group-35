{
 "cells": [
  {
   "cell_type": "markdown",
   "id": "212b10a0-ac9f-42cc-804e-04b48a3440ea",
   "metadata": {},
   "source": [
    "<font size=\"20\"> Prediction of Heart Disease </font>"
   ]
  },
  {
   "cell_type": "markdown",
   "id": "e9606af0-c9ee-499e-bd5e-00ea0f02faa0",
   "metadata": {},
   "source": [
    "<font size=\"4\"> Group: Christina Z, Abeer I, Adiba C, Renee C. </font>"
   ]
  },
  {
   "cell_type": "markdown",
   "id": "ef6eaa96-a1b7-42c2-b058-1807d2bb50f6",
   "metadata": {},
   "source": [
    "<font size=\"5\"> Introduction </font>\n",
    "\n",
    "\n"
   ]
  },
  {
   "cell_type": "markdown",
   "id": "e847d842-efe9-4e6b-bf79-308f8378b2f7",
   "metadata": {},
   "source": [
    "   Heart disease has been the leading cause of death in many countries (Namara et. al, 2022). High blood pressure is one of the main risk factors for heart disease among various others. With high blood pressure, the heart arteries become damaged by elasticity loss, which decreases the flow of blood to heart and leads to a heart disease (Fuchs et.al, 2020). Sex difference is also found to be a risk factor since scientists had proved that the associations between high blood pressure and heart disease were not equivalent in women and men (Colafella et.al, 2018). From this knowledge, we came up with a predictive question: what is the likelihood of developing heart disease based on blood pressure and sex? \n",
    "\n",
    "   We are going to use classification with K-nearest neighbors to answer our predictive question. The dataset we used contains 14 patient attributes which are relevant to the heart disease: age, sex, chest pain, resting blood pressure, …, and heart disease diagnosis. We will use sex, blood pressure and heart disease diagnosis to answer this question. \n"
   ]
  },
  {
   "cell_type": "markdown",
   "id": "dcee1e7a-d00b-4a71-983b-ddf9c064f4d8",
   "metadata": {},
   "source": [
    "<font size=\"5\"> Preliminary Exploratory Data Analysis </font>"
   ]
  },
  {
   "cell_type": "code",
   "execution_count": 1,
   "id": "762465bb-f466-4134-aac9-e408d8b079f4",
   "metadata": {},
   "outputs": [
    {
     "name": "stderr",
     "output_type": "stream",
     "text": [
      "── \u001b[1mAttaching packages\u001b[22m ─────────────────────────────────────── tidyverse 1.3.1 ──\n",
      "\n",
      "\u001b[32m✔\u001b[39m \u001b[34mggplot2\u001b[39m 3.3.6     \u001b[32m✔\u001b[39m \u001b[34mpurrr  \u001b[39m 0.3.4\n",
      "\u001b[32m✔\u001b[39m \u001b[34mtibble \u001b[39m 3.1.7     \u001b[32m✔\u001b[39m \u001b[34mdplyr  \u001b[39m 1.0.9\n",
      "\u001b[32m✔\u001b[39m \u001b[34mtidyr  \u001b[39m 1.2.0     \u001b[32m✔\u001b[39m \u001b[34mstringr\u001b[39m 1.4.0\n",
      "\u001b[32m✔\u001b[39m \u001b[34mreadr  \u001b[39m 2.1.2     \u001b[32m✔\u001b[39m \u001b[34mforcats\u001b[39m 0.5.1\n",
      "\n",
      "── \u001b[1mConflicts\u001b[22m ────────────────────────────────────────── tidyverse_conflicts() ──\n",
      "\u001b[31m✖\u001b[39m \u001b[34mdplyr\u001b[39m::\u001b[32mfilter()\u001b[39m masks \u001b[34mstats\u001b[39m::filter()\n",
      "\u001b[31m✖\u001b[39m \u001b[34mdplyr\u001b[39m::\u001b[32mlag()\u001b[39m    masks \u001b[34mstats\u001b[39m::lag()\n",
      "\n",
      "── \u001b[1mAttaching packages\u001b[22m ────────────────────────────────────── tidymodels 1.0.0 ──\n",
      "\n",
      "\u001b[32m✔\u001b[39m \u001b[34mbroom       \u001b[39m 1.0.0     \u001b[32m✔\u001b[39m \u001b[34mrsample     \u001b[39m 1.0.0\n",
      "\u001b[32m✔\u001b[39m \u001b[34mdials       \u001b[39m 1.0.0     \u001b[32m✔\u001b[39m \u001b[34mtune        \u001b[39m 1.0.0\n",
      "\u001b[32m✔\u001b[39m \u001b[34minfer       \u001b[39m 1.0.2     \u001b[32m✔\u001b[39m \u001b[34mworkflows   \u001b[39m 1.0.0\n",
      "\u001b[32m✔\u001b[39m \u001b[34mmodeldata   \u001b[39m 1.0.0     \u001b[32m✔\u001b[39m \u001b[34mworkflowsets\u001b[39m 1.0.0\n",
      "\u001b[32m✔\u001b[39m \u001b[34mparsnip     \u001b[39m 1.0.0     \u001b[32m✔\u001b[39m \u001b[34myardstick   \u001b[39m 1.0.0\n",
      "\u001b[32m✔\u001b[39m \u001b[34mrecipes     \u001b[39m 1.0.1     \n",
      "\n",
      "── \u001b[1mConflicts\u001b[22m ───────────────────────────────────────── tidymodels_conflicts() ──\n",
      "\u001b[31m✖\u001b[39m \u001b[34mscales\u001b[39m::\u001b[32mdiscard()\u001b[39m masks \u001b[34mpurrr\u001b[39m::discard()\n",
      "\u001b[31m✖\u001b[39m \u001b[34mdplyr\u001b[39m::\u001b[32mfilter()\u001b[39m   masks \u001b[34mstats\u001b[39m::filter()\n",
      "\u001b[31m✖\u001b[39m \u001b[34mrecipes\u001b[39m::\u001b[32mfixed()\u001b[39m  masks \u001b[34mstringr\u001b[39m::fixed()\n",
      "\u001b[31m✖\u001b[39m \u001b[34mdplyr\u001b[39m::\u001b[32mlag()\u001b[39m      masks \u001b[34mstats\u001b[39m::lag()\n",
      "\u001b[31m✖\u001b[39m \u001b[34myardstick\u001b[39m::\u001b[32mspec()\u001b[39m masks \u001b[34mreadr\u001b[39m::spec()\n",
      "\u001b[31m✖\u001b[39m \u001b[34mrecipes\u001b[39m::\u001b[32mstep()\u001b[39m   masks \u001b[34mstats\u001b[39m::step()\n",
      "\u001b[34m•\u001b[39m Dig deeper into tidy modeling with R at \u001b[32mhttps://www.tmwr.org\u001b[39m\n",
      "\n"
     ]
    },
    {
     "data": {
      "text/html": [
       "<table class=\"dataframe\">\n",
       "<caption>A data.frame: 302 × 14</caption>\n",
       "<thead>\n",
       "\t<tr><th scope=col>age</th><th scope=col>sex</th><th scope=col>chest_pain</th><th scope=col>resting_blood_pressure</th><th scope=col>cholesterol</th><th scope=col>fasting_blood_sugar</th><th scope=col>resting_electrocardiographic_results</th><th scope=col>max_heart_rate</th><th scope=col>exercise_induced_angina</th><th scope=col>S_depression_induced</th><th scope=col>slope_of_peak_exercise</th><th scope=col>major_vessels</th><th scope=col>thal</th><th scope=col>heart_disease_diagnosis</th></tr>\n",
       "\t<tr><th scope=col>&lt;dbl&gt;</th><th scope=col>&lt;dbl&gt;</th><th scope=col>&lt;dbl&gt;</th><th scope=col>&lt;dbl&gt;</th><th scope=col>&lt;dbl&gt;</th><th scope=col>&lt;dbl&gt;</th><th scope=col>&lt;dbl&gt;</th><th scope=col>&lt;dbl&gt;</th><th scope=col>&lt;dbl&gt;</th><th scope=col>&lt;dbl&gt;</th><th scope=col>&lt;dbl&gt;</th><th scope=col>&lt;chr&gt;</th><th scope=col>&lt;chr&gt;</th><th scope=col>&lt;int&gt;</th></tr>\n",
       "</thead>\n",
       "<tbody>\n",
       "\t<tr><td>67</td><td>1</td><td>4</td><td>160</td><td>286</td><td>0</td><td>2</td><td>108</td><td>1</td><td>1.5</td><td>2</td><td>3.0</td><td>3.0</td><td>2</td></tr>\n",
       "\t<tr><td>67</td><td>1</td><td>4</td><td>120</td><td>229</td><td>0</td><td>2</td><td>129</td><td>1</td><td>2.6</td><td>2</td><td>2.0</td><td>7.0</td><td>1</td></tr>\n",
       "\t<tr><td>37</td><td>1</td><td>3</td><td>130</td><td>250</td><td>0</td><td>0</td><td>187</td><td>0</td><td>3.5</td><td>3</td><td>0.0</td><td>3.0</td><td>0</td></tr>\n",
       "\t<tr><td>⋮</td><td>⋮</td><td>⋮</td><td>⋮</td><td>⋮</td><td>⋮</td><td>⋮</td><td>⋮</td><td>⋮</td><td>⋮</td><td>⋮</td><td>⋮</td><td>⋮</td><td>⋮</td></tr>\n",
       "\t<tr><td>57</td><td>1</td><td>4</td><td>130</td><td>131</td><td>0</td><td>0</td><td>115</td><td>1</td><td>1.2</td><td>2</td><td>1.0</td><td>7.0</td><td>3</td></tr>\n",
       "\t<tr><td>57</td><td>0</td><td>2</td><td>130</td><td>236</td><td>0</td><td>2</td><td>174</td><td>0</td><td>0.0</td><td>2</td><td>1.0</td><td>3.0</td><td>1</td></tr>\n",
       "\t<tr><td>38</td><td>1</td><td>3</td><td>138</td><td>175</td><td>0</td><td>0</td><td>173</td><td>0</td><td>0.0</td><td>1</td><td>?  </td><td>3.0</td><td>0</td></tr>\n",
       "</tbody>\n",
       "</table>\n"
      ],
      "text/latex": [
       "A data.frame: 302 × 14\n",
       "\\begin{tabular}{llllllllllllll}\n",
       " age & sex & chest\\_pain & resting\\_blood\\_pressure & cholesterol & fasting\\_blood\\_sugar & resting\\_electrocardiographic\\_results & max\\_heart\\_rate & exercise\\_induced\\_angina & S\\_depression\\_induced & slope\\_of\\_peak\\_exercise & major\\_vessels & thal & heart\\_disease\\_diagnosis\\\\\n",
       " <dbl> & <dbl> & <dbl> & <dbl> & <dbl> & <dbl> & <dbl> & <dbl> & <dbl> & <dbl> & <dbl> & <chr> & <chr> & <int>\\\\\n",
       "\\hline\n",
       "\t 67 & 1 & 4 & 160 & 286 & 0 & 2 & 108 & 1 & 1.5 & 2 & 3.0 & 3.0 & 2\\\\\n",
       "\t 67 & 1 & 4 & 120 & 229 & 0 & 2 & 129 & 1 & 2.6 & 2 & 2.0 & 7.0 & 1\\\\\n",
       "\t 37 & 1 & 3 & 130 & 250 & 0 & 0 & 187 & 0 & 3.5 & 3 & 0.0 & 3.0 & 0\\\\\n",
       "\t ⋮ & ⋮ & ⋮ & ⋮ & ⋮ & ⋮ & ⋮ & ⋮ & ⋮ & ⋮ & ⋮ & ⋮ & ⋮ & ⋮\\\\\n",
       "\t 57 & 1 & 4 & 130 & 131 & 0 & 0 & 115 & 1 & 1.2 & 2 & 1.0 & 7.0 & 3\\\\\n",
       "\t 57 & 0 & 2 & 130 & 236 & 0 & 2 & 174 & 0 & 0.0 & 2 & 1.0 & 3.0 & 1\\\\\n",
       "\t 38 & 1 & 3 & 138 & 175 & 0 & 0 & 173 & 0 & 0.0 & 1 & ?   & 3.0 & 0\\\\\n",
       "\\end{tabular}\n"
      ],
      "text/markdown": [
       "\n",
       "A data.frame: 302 × 14\n",
       "\n",
       "| age &lt;dbl&gt; | sex &lt;dbl&gt; | chest_pain &lt;dbl&gt; | resting_blood_pressure &lt;dbl&gt; | cholesterol &lt;dbl&gt; | fasting_blood_sugar &lt;dbl&gt; | resting_electrocardiographic_results &lt;dbl&gt; | max_heart_rate &lt;dbl&gt; | exercise_induced_angina &lt;dbl&gt; | S_depression_induced &lt;dbl&gt; | slope_of_peak_exercise &lt;dbl&gt; | major_vessels &lt;chr&gt; | thal &lt;chr&gt; | heart_disease_diagnosis &lt;int&gt; |\n",
       "|---|---|---|---|---|---|---|---|---|---|---|---|---|---|\n",
       "| 67 | 1 | 4 | 160 | 286 | 0 | 2 | 108 | 1 | 1.5 | 2 | 3.0 | 3.0 | 2 |\n",
       "| 67 | 1 | 4 | 120 | 229 | 0 | 2 | 129 | 1 | 2.6 | 2 | 2.0 | 7.0 | 1 |\n",
       "| 37 | 1 | 3 | 130 | 250 | 0 | 0 | 187 | 0 | 3.5 | 3 | 0.0 | 3.0 | 0 |\n",
       "| ⋮ | ⋮ | ⋮ | ⋮ | ⋮ | ⋮ | ⋮ | ⋮ | ⋮ | ⋮ | ⋮ | ⋮ | ⋮ | ⋮ |\n",
       "| 57 | 1 | 4 | 130 | 131 | 0 | 0 | 115 | 1 | 1.2 | 2 | 1.0 | 7.0 | 3 |\n",
       "| 57 | 0 | 2 | 130 | 236 | 0 | 2 | 174 | 0 | 0.0 | 2 | 1.0 | 3.0 | 1 |\n",
       "| 38 | 1 | 3 | 138 | 175 | 0 | 0 | 173 | 0 | 0.0 | 1 | ?   | 3.0 | 0 |\n",
       "\n"
      ],
      "text/plain": [
       "    age sex chest_pain resting_blood_pressure cholesterol fasting_blood_sugar\n",
       "1   67  1   4          160                    286         0                  \n",
       "2   67  1   4          120                    229         0                  \n",
       "3   37  1   3          130                    250         0                  \n",
       "⋮   ⋮   ⋮   ⋮          ⋮                      ⋮           ⋮                  \n",
       "300 57  1   4          130                    131         0                  \n",
       "301 57  0   2          130                    236         0                  \n",
       "302 38  1   3          138                    175         0                  \n",
       "    resting_electrocardiographic_results max_heart_rate exercise_induced_angina\n",
       "1   2                                    108            1                      \n",
       "2   2                                    129            1                      \n",
       "3   0                                    187            0                      \n",
       "⋮   ⋮                                    ⋮              ⋮                      \n",
       "300 0                                    115            1                      \n",
       "301 2                                    174            0                      \n",
       "302 0                                    173            0                      \n",
       "    S_depression_induced slope_of_peak_exercise major_vessels thal\n",
       "1   1.5                  2                      3.0           3.0 \n",
       "2   2.6                  2                      2.0           7.0 \n",
       "3   3.5                  3                      0.0           3.0 \n",
       "⋮   ⋮                    ⋮                      ⋮             ⋮   \n",
       "300 1.2                  2                      1.0           7.0 \n",
       "301 0.0                  2                      1.0           3.0 \n",
       "302 0.0                  1                      ?             3.0 \n",
       "    heart_disease_diagnosis\n",
       "1   2                      \n",
       "2   1                      \n",
       "3   0                      \n",
       "⋮   ⋮                      \n",
       "300 3                      \n",
       "301 1                      \n",
       "302 0                      "
      ]
     },
     "metadata": {},
     "output_type": "display_data"
    }
   ],
   "source": [
    "library(tidyverse)\n",
    "library(repr)\n",
    "library(tidymodels)\n",
    "options(repr.matrix.max.rows = 6)\n",
    "\n",
    "url <- \"https://archive.ics.uci.edu/ml/machine-learning-databases/heart-disease/processed.cleveland.data\"\n",
    "heart_data <- read.csv(file = url) |>\n",
    "rename(age=X63.0,\n",
    "       sex=X1.0,\n",
    "       chest_pain=X1.0.1,\n",
    "       resting_blood_pressure=X145.0,\n",
    "       cholesterol=X233.0,\n",
    "       fasting_blood_sugar=X1.0.2,\n",
    "       resting_electrocardiographic_results=X2.0,\n",
    "       max_heart_rate=X150.0,\n",
    "       exercise_induced_angina=X0.0,\n",
    "       S_depression_induced=X2.3,\n",
    "       slope_of_peak_exercise=X3.0,\n",
    "       major_vessels=X0.0.1,\n",
    "       thal=X6.0,\n",
    "       heart_disease_diagnosis=X0)\n",
    "heart_data \n"
   ]
  },
  {
   "cell_type": "code",
   "execution_count": 2,
   "id": "23b06017-454d-4c5f-8e8f-67b6bb9bdcb8",
   "metadata": {},
   "outputs": [],
   "source": [
    "#Splitting data into training and testing groups.\n",
    "set.seed(20)\n",
    "heart_split <- initial_split(heart_data, prop=0.75, strata=resting_blood_pressure)\n",
    "    heart_train <- training(heart_split)\n",
    "    heart_test <- testing(heart_split)"
   ]
  },
  {
   "cell_type": "code",
   "execution_count": 3,
   "id": "b58ec667-362f-49cb-bc00-842fcee6d8e4",
   "metadata": {},
   "outputs": [
    {
     "data": {
      "text/html": [
       "<table class=\"dataframe\">\n",
       "<caption>A data.frame: 224 × 5</caption>\n",
       "<thead>\n",
       "\t<tr><th scope=col>sex</th><th scope=col>age</th><th scope=col>cholesterol</th><th scope=col>resting_blood_pressure</th><th scope=col>heart_disease_diagnosis</th></tr>\n",
       "\t<tr><th scope=col>&lt;dbl&gt;</th><th scope=col>&lt;dbl&gt;</th><th scope=col>&lt;dbl&gt;</th><th scope=col>&lt;dbl&gt;</th><th scope=col>&lt;int&gt;</th></tr>\n",
       "</thead>\n",
       "<tbody>\n",
       "\t<tr><td>0</td><td>35</td><td>183</td><td>138</td><td>0</td></tr>\n",
       "\t<tr><td>0</td><td>37</td><td>215</td><td>120</td><td>0</td></tr>\n",
       "\t<tr><td>0</td><td>39</td><td>199</td><td> 94</td><td>0</td></tr>\n",
       "\t<tr><td>⋮</td><td>⋮</td><td>⋮</td><td>⋮</td><td>⋮</td></tr>\n",
       "\t<tr><td>1</td><td>70</td><td>245</td><td>156</td><td>0</td></tr>\n",
       "\t<tr><td>1</td><td>70</td><td>269</td><td>160</td><td>3</td></tr>\n",
       "\t<tr><td>1</td><td>77</td><td>304</td><td>125</td><td>4</td></tr>\n",
       "</tbody>\n",
       "</table>\n"
      ],
      "text/latex": [
       "A data.frame: 224 × 5\n",
       "\\begin{tabular}{lllll}\n",
       " sex & age & cholesterol & resting\\_blood\\_pressure & heart\\_disease\\_diagnosis\\\\\n",
       " <dbl> & <dbl> & <dbl> & <dbl> & <int>\\\\\n",
       "\\hline\n",
       "\t 0 & 35 & 183 & 138 & 0\\\\\n",
       "\t 0 & 37 & 215 & 120 & 0\\\\\n",
       "\t 0 & 39 & 199 &  94 & 0\\\\\n",
       "\t ⋮ & ⋮ & ⋮ & ⋮ & ⋮\\\\\n",
       "\t 1 & 70 & 245 & 156 & 0\\\\\n",
       "\t 1 & 70 & 269 & 160 & 3\\\\\n",
       "\t 1 & 77 & 304 & 125 & 4\\\\\n",
       "\\end{tabular}\n"
      ],
      "text/markdown": [
       "\n",
       "A data.frame: 224 × 5\n",
       "\n",
       "| sex &lt;dbl&gt; | age &lt;dbl&gt; | cholesterol &lt;dbl&gt; | resting_blood_pressure &lt;dbl&gt; | heart_disease_diagnosis &lt;int&gt; |\n",
       "|---|---|---|---|---|\n",
       "| 0 | 35 | 183 | 138 | 0 |\n",
       "| 0 | 37 | 215 | 120 | 0 |\n",
       "| 0 | 39 | 199 |  94 | 0 |\n",
       "| ⋮ | ⋮ | ⋮ | ⋮ | ⋮ |\n",
       "| 1 | 70 | 245 | 156 | 0 |\n",
       "| 1 | 70 | 269 | 160 | 3 |\n",
       "| 1 | 77 | 304 | 125 | 4 |\n",
       "\n"
      ],
      "text/plain": [
       "    sex age cholesterol resting_blood_pressure heart_disease_diagnosis\n",
       "1   0   35  183         138                    0                      \n",
       "2   0   37  215         120                    0                      \n",
       "3   0   39  199          94                    0                      \n",
       "⋮   ⋮   ⋮   ⋮           ⋮                      ⋮                      \n",
       "222 1   70  245         156                    0                      \n",
       "223 1   70  269         160                    3                      \n",
       "224 1   77  304         125                    4                      "
      ]
     },
     "metadata": {},
     "output_type": "display_data"
    }
   ],
   "source": [
    "#Selected columns (sex, resting blood pressure, and heart_disease_diagnosis) from heart data.\n",
    "heart_train_selected <- select(heart_train, sex, age, cholesterol, resting_blood_pressure, heart_disease_diagnosis) |>\n",
    "                        arrange(sex, age, resting_blood_pressure) \n",
    "heart_train_selected"
   ]
  },
  {
   "cell_type": "code",
   "execution_count": 4,
   "id": "ff62ccf4-a940-4aff-b03a-d288068cf583",
   "metadata": {},
   "outputs": [
    {
     "data": {
      "text/html": [
       "<table class=\"dataframe\">\n",
       "<caption>A tibble: 1 × 14</caption>\n",
       "<thead>\n",
       "\t<tr><th scope=col>age</th><th scope=col>sex</th><th scope=col>chest_pain</th><th scope=col>resting_blood_pressure</th><th scope=col>cholesterol</th><th scope=col>fasting_blood_sugar</th><th scope=col>resting_electrocardiographic_results</th><th scope=col>max_heart_rate</th><th scope=col>exercise_induced_angina</th><th scope=col>S_depression_induced</th><th scope=col>slope_of_peak_exercise</th><th scope=col>major_vessels</th><th scope=col>thal</th><th scope=col>heart_disease_diagnosis</th></tr>\n",
       "\t<tr><th scope=col>&lt;int&gt;</th><th scope=col>&lt;int&gt;</th><th scope=col>&lt;int&gt;</th><th scope=col>&lt;int&gt;</th><th scope=col>&lt;int&gt;</th><th scope=col>&lt;int&gt;</th><th scope=col>&lt;int&gt;</th><th scope=col>&lt;int&gt;</th><th scope=col>&lt;int&gt;</th><th scope=col>&lt;int&gt;</th><th scope=col>&lt;int&gt;</th><th scope=col>&lt;int&gt;</th><th scope=col>&lt;int&gt;</th><th scope=col>&lt;int&gt;</th></tr>\n",
       "</thead>\n",
       "<tbody>\n",
       "\t<tr><td>0</td><td>0</td><td>0</td><td>0</td><td>0</td><td>0</td><td>0</td><td>0</td><td>0</td><td>0</td><td>0</td><td>0</td><td>0</td><td>0</td></tr>\n",
       "</tbody>\n",
       "</table>\n"
      ],
      "text/latex": [
       "A tibble: 1 × 14\n",
       "\\begin{tabular}{llllllllllllll}\n",
       " age & sex & chest\\_pain & resting\\_blood\\_pressure & cholesterol & fasting\\_blood\\_sugar & resting\\_electrocardiographic\\_results & max\\_heart\\_rate & exercise\\_induced\\_angina & S\\_depression\\_induced & slope\\_of\\_peak\\_exercise & major\\_vessels & thal & heart\\_disease\\_diagnosis\\\\\n",
       " <int> & <int> & <int> & <int> & <int> & <int> & <int> & <int> & <int> & <int> & <int> & <int> & <int> & <int>\\\\\n",
       "\\hline\n",
       "\t 0 & 0 & 0 & 0 & 0 & 0 & 0 & 0 & 0 & 0 & 0 & 0 & 0 & 0\\\\\n",
       "\\end{tabular}\n"
      ],
      "text/markdown": [
       "\n",
       "A tibble: 1 × 14\n",
       "\n",
       "| age &lt;int&gt; | sex &lt;int&gt; | chest_pain &lt;int&gt; | resting_blood_pressure &lt;int&gt; | cholesterol &lt;int&gt; | fasting_blood_sugar &lt;int&gt; | resting_electrocardiographic_results &lt;int&gt; | max_heart_rate &lt;int&gt; | exercise_induced_angina &lt;int&gt; | S_depression_induced &lt;int&gt; | slope_of_peak_exercise &lt;int&gt; | major_vessels &lt;int&gt; | thal &lt;int&gt; | heart_disease_diagnosis &lt;int&gt; |\n",
       "|---|---|---|---|---|---|---|---|---|---|---|---|---|---|\n",
       "| 0 | 0 | 0 | 0 | 0 | 0 | 0 | 0 | 0 | 0 | 0 | 0 | 0 | 0 |\n",
       "\n"
      ],
      "text/plain": [
       "  age sex chest_pain resting_blood_pressure cholesterol fasting_blood_sugar\n",
       "1 0   0   0          0                      0           0                  \n",
       "  resting_electrocardiographic_results max_heart_rate exercise_induced_angina\n",
       "1 0                                    0              0                      \n",
       "  S_depression_induced slope_of_peak_exercise major_vessels thal\n",
       "1 0                    0                      0             0   \n",
       "  heart_disease_diagnosis\n",
       "1 0                      "
      ]
     },
     "metadata": {},
     "output_type": "display_data"
    }
   ],
   "source": [
    "#Table 1:\n",
    "#Reporting the number of rows with missing data (NA's).\n",
    "#Data shows that there are zero rows with missing data.\n",
    "heart_train %>%\n",
    "map_df(is.na) %>%\n",
    "map_df(sum)"
   ]
  },
  {
   "cell_type": "code",
   "execution_count": 5,
   "id": "e72d7339-39ec-46b3-b7f2-87c834618099",
   "metadata": {},
   "outputs": [
    {
     "data": {
      "text/html": [
       "224"
      ],
      "text/latex": [
       "224"
      ],
      "text/markdown": [
       "224"
      ],
      "text/plain": [
       "[1] 224"
      ]
     },
     "metadata": {},
     "output_type": "display_data"
    },
    {
     "data": {
      "text/html": [
       "224"
      ],
      "text/latex": [
       "224"
      ],
      "text/markdown": [
       "224"
      ],
      "text/plain": [
       "[1] 224"
      ]
     },
     "metadata": {},
     "output_type": "display_data"
    }
   ],
   "source": [
    "#We found that the total number of rows in the heart train dataset is 224, and the number of rows after removing for\n",
    "#any missing rows is also 224. This confirms that there are no rows with missing data in this dataset. \n",
    "nrow(heart_train)\n",
    "nrow(heart_train %>% na.omit())"
   ]
  },
  {
   "cell_type": "code",
   "execution_count": 6,
   "id": "3c06f166-f529-48ef-9aa5-80aca05f9f08",
   "metadata": {},
   "outputs": [
    {
     "data": {
      "text/html": [
       "<table class=\"dataframe\">\n",
       "<caption>A tibble: 5 × 2</caption>\n",
       "<thead>\n",
       "\t<tr><th scope=col>heart_disease_diagnosis</th><th scope=col>total</th></tr>\n",
       "\t<tr><th scope=col>&lt;int&gt;</th><th scope=col>&lt;int&gt;</th></tr>\n",
       "</thead>\n",
       "<tbody>\n",
       "\t<tr><td>0</td><td>120</td></tr>\n",
       "\t<tr><td>1</td><td> 41</td></tr>\n",
       "\t<tr><td>2</td><td> 22</td></tr>\n",
       "\t<tr><td>3</td><td> 28</td></tr>\n",
       "\t<tr><td>4</td><td> 13</td></tr>\n",
       "</tbody>\n",
       "</table>\n"
      ],
      "text/latex": [
       "A tibble: 5 × 2\n",
       "\\begin{tabular}{ll}\n",
       " heart\\_disease\\_diagnosis & total\\\\\n",
       " <int> & <int>\\\\\n",
       "\\hline\n",
       "\t 0 & 120\\\\\n",
       "\t 1 &  41\\\\\n",
       "\t 2 &  22\\\\\n",
       "\t 3 &  28\\\\\n",
       "\t 4 &  13\\\\\n",
       "\\end{tabular}\n"
      ],
      "text/markdown": [
       "\n",
       "A tibble: 5 × 2\n",
       "\n",
       "| heart_disease_diagnosis &lt;int&gt; | total &lt;int&gt; |\n",
       "|---|---|\n",
       "| 0 | 120 |\n",
       "| 1 |  41 |\n",
       "| 2 |  22 |\n",
       "| 3 |  28 |\n",
       "| 4 |  13 |\n",
       "\n"
      ],
      "text/plain": [
       "  heart_disease_diagnosis total\n",
       "1 0                       120  \n",
       "2 1                        41  \n",
       "3 2                        22  \n",
       "4 3                        28  \n",
       "5 4                        13  "
      ]
     },
     "metadata": {},
     "output_type": "display_data"
    }
   ],
   "source": [
    "#Table 2:\n",
    "#Reported number of observations for each class. It is found that there is the greatest amount of observations \n",
    "#found for the heart disease diagnosed as 0 and the least amount of observations for the heart disease diagnosed as 4.\n",
    "count <- group_by(heart_train_selected, heart_disease_diagnosis) |>\n",
    "            summarize(total=n())\n",
    "count"
   ]
  },
  {
   "cell_type": "code",
   "execution_count": 7,
   "id": "a896c40b-2156-424a-9edb-cd8a8b5f9b26",
   "metadata": {},
   "outputs": [
    {
     "data": {
      "text/html": [
       "<table class=\"dataframe\">\n",
       "<caption>A tibble: 2 × 2</caption>\n",
       "<thead>\n",
       "\t<tr><th scope=col>sex</th><th scope=col>heart_disease_diagnosis</th></tr>\n",
       "\t<tr><th scope=col>&lt;dbl&gt;</th><th scope=col>&lt;dbl&gt;</th></tr>\n",
       "</thead>\n",
       "<tbody>\n",
       "\t<tr><td>0</td><td>0.5882353</td></tr>\n",
       "\t<tr><td>1</td><td>1.1602564</td></tr>\n",
       "</tbody>\n",
       "</table>\n"
      ],
      "text/latex": [
       "A tibble: 2 × 2\n",
       "\\begin{tabular}{ll}\n",
       " sex & heart\\_disease\\_diagnosis\\\\\n",
       " <dbl> & <dbl>\\\\\n",
       "\\hline\n",
       "\t 0 & 0.5882353\\\\\n",
       "\t 1 & 1.1602564\\\\\n",
       "\\end{tabular}\n"
      ],
      "text/markdown": [
       "\n",
       "A tibble: 2 × 2\n",
       "\n",
       "| sex &lt;dbl&gt; | heart_disease_diagnosis &lt;dbl&gt; |\n",
       "|---|---|\n",
       "| 0 | 0.5882353 |\n",
       "| 1 | 1.1602564 |\n",
       "\n"
      ],
      "text/plain": [
       "  sex heart_disease_diagnosis\n",
       "1 0   0.5882353              \n",
       "2 1   1.1602564              "
      ]
     },
     "metadata": {},
     "output_type": "display_data"
    }
   ],
   "source": [
    "#Table 3:\n",
    "#The table below reports the average heart disease diagnosis (on a scale of 0-4) for males(1) and females(0).\n",
    "#It is found that the heart disease diagnosis level is slightly greater for males (~1.03) compared to females (~0.51).\n",
    "sex_vs_heart_disease <- group_by(heart_train_selected, sex) |>\n",
    "                        summarize(heart_disease_diagnosis=mean(heart_disease_diagnosis, na.rm=TRUE))\n",
    "sex_vs_heart_disease"
   ]
  },
  {
   "cell_type": "code",
   "execution_count": 8,
   "id": "33eed483-5f36-40e7-9435-aa820ea7e855",
   "metadata": {},
   "outputs": [
    {
     "data": {
      "text/html": [
       "<table class=\"dataframe\">\n",
       "<caption>A tibble: 5 × 2</caption>\n",
       "<thead>\n",
       "\t<tr><th scope=col>heart_disease_diagnosis</th><th scope=col>resting_blood_pressure</th></tr>\n",
       "\t<tr><th scope=col>&lt;int&gt;</th><th scope=col>&lt;dbl&gt;</th></tr>\n",
       "</thead>\n",
       "<tbody>\n",
       "\t<tr><td>0</td><td>128.9250</td></tr>\n",
       "\t<tr><td>1</td><td>133.1951</td></tr>\n",
       "\t<tr><td>2</td><td>135.7727</td></tr>\n",
       "\t<tr><td>3</td><td>132.9286</td></tr>\n",
       "\t<tr><td>4</td><td>138.7692</td></tr>\n",
       "</tbody>\n",
       "</table>\n"
      ],
      "text/latex": [
       "A tibble: 5 × 2\n",
       "\\begin{tabular}{ll}\n",
       " heart\\_disease\\_diagnosis & resting\\_blood\\_pressure\\\\\n",
       " <int> & <dbl>\\\\\n",
       "\\hline\n",
       "\t 0 & 128.9250\\\\\n",
       "\t 1 & 133.1951\\\\\n",
       "\t 2 & 135.7727\\\\\n",
       "\t 3 & 132.9286\\\\\n",
       "\t 4 & 138.7692\\\\\n",
       "\\end{tabular}\n"
      ],
      "text/markdown": [
       "\n",
       "A tibble: 5 × 2\n",
       "\n",
       "| heart_disease_diagnosis &lt;int&gt; | resting_blood_pressure &lt;dbl&gt; |\n",
       "|---|---|\n",
       "| 0 | 128.9250 |\n",
       "| 1 | 133.1951 |\n",
       "| 2 | 135.7727 |\n",
       "| 3 | 132.9286 |\n",
       "| 4 | 138.7692 |\n",
       "\n"
      ],
      "text/plain": [
       "  heart_disease_diagnosis resting_blood_pressure\n",
       "1 0                       128.9250              \n",
       "2 1                       133.1951              \n",
       "3 2                       135.7727              \n",
       "4 3                       132.9286              \n",
       "5 4                       138.7692              "
      ]
     },
     "metadata": {},
     "output_type": "display_data"
    }
   ],
   "source": [
    "#Table 4:\n",
    "#The table below reports the average resting blood pressure (mm Hg) for each heart disease diagnosis level (0-4). \n",
    "#There is generally a slight increase in resting blood pressure as the heart disease diagnosis level increases. \n",
    "heart_disease_vs_resting_blood_pressure <- group_by(heart_train_selected, heart_disease_diagnosis) |>\n",
    "                                summarize(resting_blood_pressure=mean(resting_blood_pressure, na.rm=TRUE))\n",
    "heart_disease_vs_resting_blood_pressure"
   ]
  },
  {
   "cell_type": "code",
   "execution_count": 9,
   "id": "0a931fc7-9afe-4ef8-97b3-81ef0150ae27",
   "metadata": {},
   "outputs": [
    {
     "data": {
      "image/png": "[encoded data removed]",
      "text/plain": [
       "plot without title"
      ]
     },
     "metadata": {
      "image/png": {
       "height": 420,
       "width": 420
      }
     },
     "output_type": "display_data"
    }
   ],
   "source": [
    "#Graph 1:\n",
    "#Plot of heart disease diagnosis on a scale of 0-4 versus resting blood pressure (mm Hg) in men and women. \n",
    "#The graph shows that heart disease diagnosis level has a weak positive correlation with resting blood pressure for \n",
    "#both male (1) and female (0). \n",
    "#An increase in the heart disease diagnosis level correlates to a slight increase in resting blood pressure amount.\n",
    "#There is a stronger relationship between heart disease diagnosis and resting blood pressure for males, but also  \n",
    "#more outliers in the data. \n",
    "plot_heart_disease_vs_resting_blood_pressure <- heart_train_selected |>\n",
    "                            mutate(heart_disease_diagnosis = as.factor(heart_disease_diagnosis)) |>\n",
    "                            mutate(sex = as.factor(sex)) |>\n",
    "                            ggplot(aes(x=heart_disease_diagnosis, y=age, fill=sex)) +\n",
    "                                 geom_boxplot() +\n",
    "                                 labs(x=\"Heart Disease Diagnosis (Scale of 0-4)\", y=\"Resting Blood Pressure (mm Hg)\", fill= \"Sex (0=Females, 1=Males)\", title=\"Heart Disease Diagnosis vs. Resting Blood Pressure\", )+\n",
    "                            facet_grid(sex~.) \n",
    "plot_heart_disease_vs_resting_blood_pressure"
   ]
  },
  {
   "cell_type": "code",
   "execution_count": 10,
   "id": "35d2655a-1846-42fc-bf0e-325986d5a7de",
   "metadata": {},
   "outputs": [],
   "source": [
    "#For our project, we are more interested in finding out whether or not heart disease is present in an individual, \n",
    "#rather than the level of heart disease severity (0, 1, 2, 3, 4). Therefore, we grouped all heart disease diagnosis\n",
    "#levels of 0 into one group (represented by 0) and we grouped all heart disease diagnosis levels of 1, 2, 3, and 4, into one group\n",
    "#into one group (represented by 1). The group represented by 0 indicates no heart disease present, while the group\n",
    "#represented by 1 indicates the presence of heart disease. \n",
    "heart_train_grouped <- heart_train_selected |>\n",
    "                        mutate(new_heart_binary=ifelse(heart_disease_diagnosis %in% c(1, 2, 3, 4), 1, 0)) |>\n",
    "                        mutate(new_heart_binary = as.factor(new_heart_binary)) "
   ]
  },
  {
   "cell_type": "code",
   "execution_count": 11,
   "id": "c39190d1-ac88-48dc-881d-846fc0b4e2db",
   "metadata": {},
   "outputs": [
    {
     "data": {
      "image/png": "[encoded data removed]",
      "text/plain": [
       "plot without title"
      ]
     },
     "metadata": {
      "image/png": {
       "height": 420,
       "width": 420
      }
     },
     "output_type": "display_data"
    }
   ],
   "source": [
    "#Graph 2: \n",
    "#Plot of the presence of heart disease (with 0 indicating no heart disease and 1 indicating the presence of heart \n",
    "#disease) versus the resting blood pressure level (in mm Hg). From this graph, we can more easily see a correlation.\n",
    "#The presence of heart disease is correlated with a higher median resting blood pressure level (~6 mm Hg increase) \n",
    "#compared to no presence of heart disease for both male (1) and female (0). Males (1) have generally a lower \n",
    "#resting blood pressure as compared to females (0). \n",
    "\n",
    "plot_heart_disease_vs_resting_blood_pressure <- heart_train_grouped |>\n",
    "                            mutate(sex = as.factor(sex)) |>\n",
    "                            ggplot(aes(x=new_heart_binary, y=age, fill=sex)) +\n",
    "                                 geom_boxplot() +\n",
    "                                 labs(x=\"Presence of Heart Disease (0=No, 1=Yes)\", y=\"Resting Blood Pressure (mm Hg)\", fill=\"Sex (0=Females, 1=Males)\", title=\"Presence of Heart Disease vs. Resting Blood Pressure\", )+\n",
    "                            facet_grid(sex~.)\n",
    "plot_heart_disease_vs_resting_blood_pressure"
   ]
  },
  {
   "cell_type": "code",
   "execution_count": 12,
   "id": "db045eb3-bc34-46c3-a6c1-39a80dc22cb7",
   "metadata": {},
   "outputs": [
    {
     "data": {
      "text/html": [
       "<table class=\"dataframe\">\n",
       "<caption>A tibble: 50 × 7</caption>\n",
       "<thead>\n",
       "\t<tr><th scope=col>neighbors</th><th scope=col>.metric</th><th scope=col>.estimator</th><th scope=col>mean</th><th scope=col>n</th><th scope=col>std_err</th><th scope=col>.config</th></tr>\n",
       "\t<tr><th scope=col>&lt;dbl&gt;</th><th scope=col>&lt;chr&gt;</th><th scope=col>&lt;chr&gt;</th><th scope=col>&lt;dbl&gt;</th><th scope=col>&lt;int&gt;</th><th scope=col>&lt;dbl&gt;</th><th scope=col>&lt;chr&gt;</th></tr>\n",
       "</thead>\n",
       "<tbody>\n",
       "\t<tr><td>1</td><td>accuracy</td><td>binary</td><td>0.5535354</td><td>5</td><td>0.02541764</td><td>Preprocessor1_Model01</td></tr>\n",
       "\t<tr><td>1</td><td>roc_auc </td><td>binary</td><td>0.5441667</td><td>5</td><td>0.02391450</td><td>Preprocessor1_Model01</td></tr>\n",
       "\t<tr><td>2</td><td>accuracy</td><td>binary</td><td>0.5713131</td><td>5</td><td>0.02205076</td><td>Preprocessor1_Model02</td></tr>\n",
       "\t<tr><td>⋮</td><td>⋮</td><td>⋮</td><td>⋮</td><td>⋮</td><td>⋮</td><td>⋮</td></tr>\n",
       "\t<tr><td>24</td><td>roc_auc </td><td>binary</td><td>0.6180754</td><td>5</td><td>0.01648678</td><td>Preprocessor1_Model24</td></tr>\n",
       "\t<tr><td>25</td><td>accuracy</td><td>binary</td><td>0.5447475</td><td>5</td><td>0.01417708</td><td>Preprocessor1_Model25</td></tr>\n",
       "\t<tr><td>25</td><td>roc_auc </td><td>binary</td><td>0.6198313</td><td>5</td><td>0.01209012</td><td>Preprocessor1_Model25</td></tr>\n",
       "</tbody>\n",
       "</table>\n"
      ],
      "text/latex": [
       "A tibble: 50 × 7\n",
       "\\begin{tabular}{lllllll}\n",
       " neighbors & .metric & .estimator & mean & n & std\\_err & .config\\\\\n",
       " <dbl> & <chr> & <chr> & <dbl> & <int> & <dbl> & <chr>\\\\\n",
       "\\hline\n",
       "\t 1 & accuracy & binary & 0.5535354 & 5 & 0.02541764 & Preprocessor1\\_Model01\\\\\n",
       "\t 1 & roc\\_auc  & binary & 0.5441667 & 5 & 0.02391450 & Preprocessor1\\_Model01\\\\\n",
       "\t 2 & accuracy & binary & 0.5713131 & 5 & 0.02205076 & Preprocessor1\\_Model02\\\\\n",
       "\t ⋮ & ⋮ & ⋮ & ⋮ & ⋮ & ⋮ & ⋮\\\\\n",
       "\t 24 & roc\\_auc  & binary & 0.6180754 & 5 & 0.01648678 & Preprocessor1\\_Model24\\\\\n",
       "\t 25 & accuracy & binary & 0.5447475 & 5 & 0.01417708 & Preprocessor1\\_Model25\\\\\n",
       "\t 25 & roc\\_auc  & binary & 0.6198313 & 5 & 0.01209012 & Preprocessor1\\_Model25\\\\\n",
       "\\end{tabular}\n"
      ],
      "text/markdown": [
       "\n",
       "A tibble: 50 × 7\n",
       "\n",
       "| neighbors &lt;dbl&gt; | .metric &lt;chr&gt; | .estimator &lt;chr&gt; | mean &lt;dbl&gt; | n &lt;int&gt; | std_err &lt;dbl&gt; | .config &lt;chr&gt; |\n",
       "|---|---|---|---|---|---|---|\n",
       "| 1 | accuracy | binary | 0.5535354 | 5 | 0.02541764 | Preprocessor1_Model01 |\n",
       "| 1 | roc_auc  | binary | 0.5441667 | 5 | 0.02391450 | Preprocessor1_Model01 |\n",
       "| 2 | accuracy | binary | 0.5713131 | 5 | 0.02205076 | Preprocessor1_Model02 |\n",
       "| ⋮ | ⋮ | ⋮ | ⋮ | ⋮ | ⋮ | ⋮ |\n",
       "| 24 | roc_auc  | binary | 0.6180754 | 5 | 0.01648678 | Preprocessor1_Model24 |\n",
       "| 25 | accuracy | binary | 0.5447475 | 5 | 0.01417708 | Preprocessor1_Model25 |\n",
       "| 25 | roc_auc  | binary | 0.6198313 | 5 | 0.01209012 | Preprocessor1_Model25 |\n",
       "\n"
      ],
      "text/plain": [
       "   neighbors .metric  .estimator mean      n std_err    .config              \n",
       "1  1         accuracy binary     0.5535354 5 0.02541764 Preprocessor1_Model01\n",
       "2  1         roc_auc  binary     0.5441667 5 0.02391450 Preprocessor1_Model01\n",
       "3  2         accuracy binary     0.5713131 5 0.02205076 Preprocessor1_Model02\n",
       "⋮  ⋮         ⋮        ⋮          ⋮         ⋮ ⋮          ⋮                    \n",
       "48 24        roc_auc  binary     0.6180754 5 0.01648678 Preprocessor1_Model24\n",
       "49 25        accuracy binary     0.5447475 5 0.01417708 Preprocessor1_Model25\n",
       "50 25        roc_auc  binary     0.6198313 5 0.01209012 Preprocessor1_Model25"
      ]
     },
     "metadata": {},
     "output_type": "display_data"
    },
    {
     "data": {
      "image/png": "[encoded data removed]",
      "text/plain": [
       "plot without title"
      ]
     },
     "metadata": {
      "image/png": {
       "height": 420,
       "width": 420
      }
     },
     "output_type": "display_data"
    }
   ],
   "source": [
    "set.seed(20)\n",
    "#set seed to ensure we are using the same randomised numbers\n",
    "\n",
    "heart_vfold <- vfold_cv(heart_train_grouped, v = 5, strata = new_heart_binary)\n",
    "\n",
    "heart_recipe <- recipe(new_heart_binary ~ resting_blood_pressure + sex, data = heart_train_grouped) |>\n",
    "  step_scale(all_predictors()) |>\n",
    "  step_center(all_predictors())\n",
    "\n",
    "knn_spec <- nearest_neighbor(weight_func = \"rectangular\", neighbors = tune()) |>\n",
    "  set_engine(\"kknn\") |>\n",
    "  set_mode(\"classification\")\n",
    "\n",
    "k_vals <- tibble(neighbors=seq(from=1, to=25, by=1))\n",
    "\n",
    "knn_results <- workflow() |>\n",
    "  add_recipe(heart_recipe) |>\n",
    "  add_model(knn_spec) |>\n",
    "  tune_grid(resamples = heart_vfold, grid = k_vals) |>\n",
    "  collect_metrics()\n",
    "knn_results\n",
    "\n",
    "accuracies <- knn_results |>\n",
    "  filter(.metric == \"accuracy\")\n",
    "\n",
    "cross_val_plot <- accuracies |> \n",
    "    ggplot(aes(x = neighbors, y = mean)) +\n",
    "    geom_point() +\n",
    "    geom_line() +\n",
    "    labs(x = \"Neighbors\", y = \"Accuracy Estimate\") +\n",
    "    theme(text = element_text(size = 20))\n",
    "cross_val_plot\n"
   ]
  },
  {
   "cell_type": "code",
   "execution_count": 13,
   "id": "bdc7f3be-e6e6-4baa-9552-4e3b5dc568e1",
   "metadata": {},
   "outputs": [
    {
     "data": {
      "text/html": [
       "<table class=\"dataframe\">\n",
       "<caption>A tibble: 78 × 15</caption>\n",
       "<thead>\n",
       "\t<tr><th scope=col>.pred_class</th><th scope=col>age</th><th scope=col>sex</th><th scope=col>chest_pain</th><th scope=col>resting_blood_pressure</th><th scope=col>cholesterol</th><th scope=col>fasting_blood_sugar</th><th scope=col>resting_electrocardiographic_results</th><th scope=col>max_heart_rate</th><th scope=col>exercise_induced_angina</th><th scope=col>S_depression_induced</th><th scope=col>slope_of_peak_exercise</th><th scope=col>major_vessels</th><th scope=col>thal</th><th scope=col>heart_disease_diagnosis</th></tr>\n",
       "\t<tr><th scope=col>&lt;fct&gt;</th><th scope=col>&lt;dbl&gt;</th><th scope=col>&lt;dbl&gt;</th><th scope=col>&lt;dbl&gt;</th><th scope=col>&lt;dbl&gt;</th><th scope=col>&lt;dbl&gt;</th><th scope=col>&lt;dbl&gt;</th><th scope=col>&lt;dbl&gt;</th><th scope=col>&lt;dbl&gt;</th><th scope=col>&lt;dbl&gt;</th><th scope=col>&lt;dbl&gt;</th><th scope=col>&lt;dbl&gt;</th><th scope=col>&lt;chr&gt;</th><th scope=col>&lt;chr&gt;</th><th scope=col>&lt;int&gt;</th></tr>\n",
       "</thead>\n",
       "<tbody>\n",
       "\t<tr><td>1</td><td>67</td><td>1</td><td>4</td><td>160</td><td>286</td><td>0</td><td>2</td><td>108</td><td>1</td><td>1.5</td><td>2</td><td>3.0</td><td>3.0</td><td>2</td></tr>\n",
       "\t<tr><td>0</td><td>57</td><td>0</td><td>4</td><td>120</td><td>354</td><td>0</td><td>0</td><td>163</td><td>1</td><td>0.6</td><td>1</td><td>0.0</td><td>3.0</td><td>0</td></tr>\n",
       "\t<tr><td>1</td><td>57</td><td>1</td><td>4</td><td>140</td><td>192</td><td>0</td><td>0</td><td>148</td><td>0</td><td>0.4</td><td>2</td><td>0.0</td><td>6.0</td><td>0</td></tr>\n",
       "\t<tr><td>⋮</td><td>⋮</td><td>⋮</td><td>⋮</td><td>⋮</td><td>⋮</td><td>⋮</td><td>⋮</td><td>⋮</td><td>⋮</td><td>⋮</td><td>⋮</td><td>⋮</td><td>⋮</td><td>⋮</td></tr>\n",
       "\t<tr><td>1</td><td>57</td><td>1</td><td>4</td><td>110</td><td>335</td><td>0</td><td>0</td><td>143</td><td>1</td><td>3</td><td>2</td><td>1.0</td><td>7.0</td><td>2</td></tr>\n",
       "\t<tr><td>1</td><td>59</td><td>1</td><td>4</td><td>164</td><td>176</td><td>1</td><td>2</td><td> 90</td><td>0</td><td>1</td><td>2</td><td>2.0</td><td>6.0</td><td>3</td></tr>\n",
       "\t<tr><td>1</td><td>38</td><td>1</td><td>3</td><td>138</td><td>175</td><td>0</td><td>0</td><td>173</td><td>0</td><td>0</td><td>1</td><td>?  </td><td>3.0</td><td>0</td></tr>\n",
       "</tbody>\n",
       "</table>\n"
      ],
      "text/latex": [
       "A tibble: 78 × 15\n",
       "\\begin{tabular}{lllllllllllllll}\n",
       " .pred\\_class & age & sex & chest\\_pain & resting\\_blood\\_pressure & cholesterol & fasting\\_blood\\_sugar & resting\\_electrocardiographic\\_results & max\\_heart\\_rate & exercise\\_induced\\_angina & S\\_depression\\_induced & slope\\_of\\_peak\\_exercise & major\\_vessels & thal & heart\\_disease\\_diagnosis\\\\\n",
       " <fct> & <dbl> & <dbl> & <dbl> & <dbl> & <dbl> & <dbl> & <dbl> & <dbl> & <dbl> & <dbl> & <dbl> & <chr> & <chr> & <int>\\\\\n",
       "\\hline\n",
       "\t 1 & 67 & 1 & 4 & 160 & 286 & 0 & 2 & 108 & 1 & 1.5 & 2 & 3.0 & 3.0 & 2\\\\\n",
       "\t 0 & 57 & 0 & 4 & 120 & 354 & 0 & 0 & 163 & 1 & 0.6 & 1 & 0.0 & 3.0 & 0\\\\\n",
       "\t 1 & 57 & 1 & 4 & 140 & 192 & 0 & 0 & 148 & 0 & 0.4 & 2 & 0.0 & 6.0 & 0\\\\\n",
       "\t ⋮ & ⋮ & ⋮ & ⋮ & ⋮ & ⋮ & ⋮ & ⋮ & ⋮ & ⋮ & ⋮ & ⋮ & ⋮ & ⋮ & ⋮\\\\\n",
       "\t 1 & 57 & 1 & 4 & 110 & 335 & 0 & 0 & 143 & 1 & 3 & 2 & 1.0 & 7.0 & 2\\\\\n",
       "\t 1 & 59 & 1 & 4 & 164 & 176 & 1 & 2 &  90 & 0 & 1 & 2 & 2.0 & 6.0 & 3\\\\\n",
       "\t 1 & 38 & 1 & 3 & 138 & 175 & 0 & 0 & 173 & 0 & 0 & 1 & ?   & 3.0 & 0\\\\\n",
       "\\end{tabular}\n"
      ],
      "text/markdown": [
       "\n",
       "A tibble: 78 × 15\n",
       "\n",
       "| .pred_class &lt;fct&gt; | age &lt;dbl&gt; | sex &lt;dbl&gt; | chest_pain &lt;dbl&gt; | resting_blood_pressure &lt;dbl&gt; | cholesterol &lt;dbl&gt; | fasting_blood_sugar &lt;dbl&gt; | resting_electrocardiographic_results &lt;dbl&gt; | max_heart_rate &lt;dbl&gt; | exercise_induced_angina &lt;dbl&gt; | S_depression_induced &lt;dbl&gt; | slope_of_peak_exercise &lt;dbl&gt; | major_vessels &lt;chr&gt; | thal &lt;chr&gt; | heart_disease_diagnosis &lt;int&gt; |\n",
       "|---|---|---|---|---|---|---|---|---|---|---|---|---|---|---|\n",
       "| 1 | 67 | 1 | 4 | 160 | 286 | 0 | 2 | 108 | 1 | 1.5 | 2 | 3.0 | 3.0 | 2 |\n",
       "| 0 | 57 | 0 | 4 | 120 | 354 | 0 | 0 | 163 | 1 | 0.6 | 1 | 0.0 | 3.0 | 0 |\n",
       "| 1 | 57 | 1 | 4 | 140 | 192 | 0 | 0 | 148 | 0 | 0.4 | 2 | 0.0 | 6.0 | 0 |\n",
       "| ⋮ | ⋮ | ⋮ | ⋮ | ⋮ | ⋮ | ⋮ | ⋮ | ⋮ | ⋮ | ⋮ | ⋮ | ⋮ | ⋮ | ⋮ |\n",
       "| 1 | 57 | 1 | 4 | 110 | 335 | 0 | 0 | 143 | 1 | 3 | 2 | 1.0 | 7.0 | 2 |\n",
       "| 1 | 59 | 1 | 4 | 164 | 176 | 1 | 2 |  90 | 0 | 1 | 2 | 2.0 | 6.0 | 3 |\n",
       "| 1 | 38 | 1 | 3 | 138 | 175 | 0 | 0 | 173 | 0 | 0 | 1 | ?   | 3.0 | 0 |\n",
       "\n"
      ],
      "text/plain": [
       "   .pred_class age sex chest_pain resting_blood_pressure cholesterol\n",
       "1  1           67  1   4          160                    286        \n",
       "2  0           57  0   4          120                    354        \n",
       "3  1           57  1   4          140                    192        \n",
       "⋮  ⋮           ⋮   ⋮   ⋮          ⋮                      ⋮          \n",
       "76 1           57  1   4          110                    335        \n",
       "77 1           59  1   4          164                    176        \n",
       "78 1           38  1   3          138                    175        \n",
       "   fasting_blood_sugar resting_electrocardiographic_results max_heart_rate\n",
       "1  0                   2                                    108           \n",
       "2  0                   0                                    163           \n",
       "3  0                   0                                    148           \n",
       "⋮  ⋮                   ⋮                                    ⋮             \n",
       "76 0                   0                                    143           \n",
       "77 1                   2                                     90           \n",
       "78 0                   0                                    173           \n",
       "   exercise_induced_angina S_depression_induced slope_of_peak_exercise\n",
       "1  1                       1.5                  2                     \n",
       "2  1                       0.6                  1                     \n",
       "3  0                       0.4                  2                     \n",
       "⋮  ⋮                       ⋮                    ⋮                     \n",
       "76 1                       3                    2                     \n",
       "77 0                       1                    2                     \n",
       "78 0                       0                    1                     \n",
       "   major_vessels thal heart_disease_diagnosis\n",
       "1  3.0           3.0  2                      \n",
       "2  0.0           3.0  0                      \n",
       "3  0.0           6.0  0                      \n",
       "⋮  ⋮             ⋮    ⋮                      \n",
       "76 1.0           7.0  2                      \n",
       "77 2.0           6.0  3                      \n",
       "78 ?             3.0  0                      "
      ]
     },
     "metadata": {},
     "output_type": "display_data"
    },
    {
     "ename": "ERROR",
     "evalue": "\u001b[1m\u001b[33mError\u001b[39m:\u001b[22m\n\u001b[33m!\u001b[39m object 'new_heart_binary' not found\n",
     "output_type": "error",
     "traceback": [
      "\u001b[1m\u001b[33mError\u001b[39m:\u001b[22m\n\u001b[33m!\u001b[39m object 'new_heart_binary' not found\nTraceback:\n",
      "1. head(select(metrics(heart_predictions, truth = new_heart_binary, \n .     estimate = .pred_class), .metric, .estimate), 1)",
      "2. select(metrics(heart_predictions, truth = new_heart_binary, estimate = .pred_class), \n .     .metric, .estimate)",
      "3. metrics(heart_predictions, truth = new_heart_binary, estimate = .pred_class)",
      "4. metrics.data.frame(heart_predictions, truth = new_heart_binary, \n .     estimate = .pred_class)",
      "5. tidyselect::vars_pull(names, {\n .     {\n .         truth\n .     }\n . })",
      "6. with_entraced_errors(loc <- eval_tidy(enquo(var), set_names(seq_along(vars), \n .     vars)))",
      "7. try_fetch(expr, simpleError = function(cnd) {\n .     abort(conditionMessage(cnd), call = conditionCall(cnd))\n . })",
      "8. withCallingHandlers(expr, simpleError = function(cnd) {\n .     {\n .         .__handler_frame__. <- TRUE\n .         .__setup_frame__. <- frame\n .     }\n .     out <- handlers[[1L]](cnd)\n .     if (!inherits(out, \"rlang_zap\")) \n .         throw(out)\n . })",
      "9. eval_tidy(enquo(var), set_names(seq_along(vars), vars))",
      "10. .handleSimpleError(function (cnd) \n  . {\n  .     {\n  .         .__handler_frame__. <- TRUE\n  .         .__setup_frame__. <- frame\n  .     }\n  .     out <- handlers[[1L]](cnd)\n  .     if (!inherits(out, \"rlang_zap\")) \n  .         throw(out)\n  . }, \"object 'new_heart_binary' not found\", base::quote(eval_tidy(enquo(var), \n  .     set_names(seq_along(vars), vars))))",
      "11. h(simpleError(msg, call))",
      "12. handlers[[1L]](cnd)",
      "13. abort(conditionMessage(cnd), call = conditionCall(cnd))",
      "14. signal_abort(cnd, .file)"
     ]
    }
   ],
   "source": [
    "knn_best_spec <- nearest_neighbor(weight_func = \"rectangular\", neighbors = 16) |>\n",
    "  set_engine(\"kknn\") |>\n",
    "  set_mode(\"classification\")\n",
    "\n",
    "heart_fit <- workflow() |>\n",
    "  add_recipe(heart_recipe) |>\n",
    "  add_model(knn_best_spec) |>\n",
    "  fit(data = heart_train_grouped)\n",
    "\n",
    "heart_predictions <- predict(heart_fit, heart_test) |> \n",
    "    bind_cols(heart_test)\n",
    "heart_predictions\n",
    "\n",
    "# Compare the accuracy of predictions to the true values in the test set\n",
    "heart_acc <- heart_predictions |> \n",
    "    metrics(truth = new_heart_binary, estimate = .pred_class) |> \n",
    "    select(.metric, .estimate) |> \n",
    "    head(1)\n",
    "heart_acc\n",
    "\n",
    "# Compare the predictions to the true values in a confusion matrix\n",
    "heart_cm <- heart_predictions |> \n",
    "    conf_mat(truth = new_heart_binary, estimate = .pred_class)\n",
    "heart_cm"
   ]
  },
  {
   "cell_type": "markdown",
   "id": "d3c33237",
   "metadata": {},
   "source": [
    "<font size=\"5\"> Methods </font>"
   ]
  },
  {
   "cell_type": "markdown",
   "id": "98fbdc37-29ec-4558-868e-69360edea395",
   "metadata": {},
   "source": [
    "We will create a summary table to predict whether heart disease diagnosis is affected by the factors. The original data set is quite tidy but not all the data is relevant. Therefore we use select() to create a table with relevant data(blood pressure, sex and heart disease diagnosis). Next, we will create a visualisation plot. We will make a box-plot and use facet_grid() to create visualisation plots that show how the factors interact for each gender on top of each other. \n",
    "\n",
    "To create the model we will split our dataset into training and testing dataset, setting aside the test dataset until the end to test our model. The training dataset will be further broken up into validation and training set 5 times (5-fold cross validation). Then, we will create a plot of accuracy versus k value to ensure we pick the k-value with the highest accuracy to ensure our model is as accurate as possible. We will use k-nearest-neighbour and use the two factors as the predictors and predict whether heart disease is present or not.\n"
   ]
  },
  {
   "cell_type": "markdown",
   "id": "716ee4b4-d34f-4ce2-86c3-6faec7039690",
   "metadata": {},
   "source": [
    "<font size=\"5\"> Expected outcomes and significance </font>"
   ]
  },
  {
   "cell_type": "markdown",
   "id": "9c38024e-7320-4b58-857d-187d2e8f6622",
   "metadata": {},
   "source": [
    "Colafella et.al had claimed that the associations between high blood pressure and heart disease outcomes were not equivalent in women and men. However, a clear relationship with sufficient data was not presented. Thus, we expect to find a relationship between blood pressure, sex and heart disease in order to better predict the chance of getting heart disease. \n",
    "  \n",
    "These findings could be impactful in providing more of a visual and explanatory answer to the relationship between sex with blood pressure & heart disease diagnoses; a strong relationship would allow a more accurate model that can help people predict their chance of getting heart disease. As well, if the findings supplement Colafella et.al’s claim, more research can be conducted to understand the causes for the difference. \n",
    "        \n",
    "Furthermore, it could lead to the question of helping people to get their results to the optimal healthy level, which will help lower their chances of getting CHD or at least subvert some of the symptoms to a more manageable level. That way, more people can create a health plan that helps themselves in terms of their health.\n"
   ]
  },
  {
   "cell_type": "markdown",
   "id": "a1be8dfd-0bfd-4aed-b15a-5969dbe213dd",
   "metadata": {},
   "source": [
    "<font size=\"5\"> References </font>"
   ]
  },
  {
   "cell_type": "markdown",
   "id": "f02988ce-e6b4-4b74-b8d9-37f49dcd36cb",
   "metadata": {},
   "source": [
    "Fuchs, F. D. & Whelton, P. K.(2020). High blood pressure and cardiovascular disease. Hypertension 75(2). 285–292.doi.org/10.1161/HYPERTENSIONAHA.119.14240.\n",
    "\n",
    "Namara, K., Alzubaidi, H., Jackson, JK. (2019). Cardiovascular disease as a leading cause of death: how are pharmacists getting involved?. Integr Pham Res Pract. 8.1-11. doi: 10.2147/IPRP.S133088. \n",
    "\n",
    "Colafella, KMM., Denton, KM. (2017). Sex-specific differences in hypertension and associated cardiovascular disease. Nat Rev Nephrol. 14. 185-201.  doi: 10.1038/nrneph.2017.189."
   ]
  }
 ],
 "metadata": {
  "kernelspec": {
   "display_name": "R",
   "language": "R",
   "name": "ir"
  },
  "language_info": {
   "codemirror_mode": "r",
   "file_extension": ".r",
   "mimetype": "text/x-r-source",
   "name": "R",
   "pygments_lexer": "r",
   "version": "4.1.3"
  }
 },
 "nbformat": 4,
 "nbformat_minor": 5
}
